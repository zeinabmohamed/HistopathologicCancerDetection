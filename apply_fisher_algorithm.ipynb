{
  "nbformat": 4,
  "nbformat_minor": 0,
  "metadata": {
    "colab": {
      "name": "fisher_model.ipynb",
      "provenance": [],
      "private_outputs": true,
      "include_colab_link": true
    },
    "kernelspec": {
      "name": "python3",
      "display_name": "Python 3"
    }
  },
  "cells": [
    {
      "cell_type": "markdown",
      "metadata": {
        "id": "view-in-github",
        "colab_type": "text"
      },
      "source": [
        "<a href=\"https://colab.research.google.com/github/zeinabmohamed/HistopathologicCancerDetection/blob/master/apply_fisher_algorithm.ipynb\" target=\"_parent\"><img src=\"https://colab.research.google.com/assets/colab-badge.svg\" alt=\"Open In Colab\"/></a>"
      ]
    },
    {
      "cell_type": "markdown",
      "metadata": {
        "id": "ABaSd3kejNZ2",
        "colab_type": "text"
      },
      "source": [
        "Step 1 : Adding required imports : "
      ]
    },
    {
      "cell_type": "code",
      "metadata": {
        "id": "FibkbVaYikrP",
        "colab_type": "code",
        "colab": {}
      },
      "source": [
        "#!/usr/bin/env python3\n",
        "# -*- coding: utf-8 -*-\n",
        "\"\"\"\n",
        "Created on Sun Dec 29 20:51:00 2019\n",
        "@author: minamounir\n",
        "\"\"\"\n",
        "import numpy as np\n",
        "import os\n",
        "import imageio\n",
        "import matplotlib.pylab as plt\n",
        "import copy \n",
        "import pandas as pd\n",
        "import sys\n",
        "from numpy import genfromtxt"
      ],
      "execution_count": 0,
      "outputs": []
    },
    {
      "cell_type": "markdown",
      "metadata": {
        "id": "ZhHXYm2mkN8k",
        "colab_type": "text"
      },
      "source": [
        "Step 2 : Amount the Google drive "
      ]
    },
    {
      "cell_type": "code",
      "metadata": {
        "id": "v4v7_Zhlk6xg",
        "colab_type": "code",
        "outputId": "11108f12-f7a7-46a1-b0ac-33085dcd827b",
        "colab": {
          "base_uri": "https://localhost:8080/",
          "height": 34
        }
      },
      "source": [
        "from google.colab import drive\n",
        "drive.mount('/content/drive')"
      ],
      "execution_count": 181,
      "outputs": [
        {
          "output_type": "stream",
          "text": [
            "Drive already mounted at /content/drive; to attempt to forcibly remount, call drive.mount(\"/content/drive\", force_remount=True).\n"
          ],
          "name": "stdout"
        }
      ]
    },
    {
      "cell_type": "markdown",
      "metadata": {
        "id": "mBMLlSrDsklV",
        "colab_type": "text"
      },
      "source": [
        "Step 3  :  Read Data from CSV "
      ]
    },
    {
      "cell_type": "code",
      "metadata": {
        "id": "7OVIpIhCsjxd",
        "colab_type": "code",
        "colab": {
          "base_uri": "https://localhost:8080/",
          "height": 476
        },
        "outputId": "7326fd1a-5dd5-4f13-8566-b84d4d2ea5bf"
      },
      "source": [
        "data_set_csv_path = \"/content/drive/My Drive/histopathologic-cancer-detection/train_15000.csv\"\n",
        "\n",
        "import pandas as pd\n",
        "\n",
        "df = pd.read_csv(data_set_csv_path, sep=',', header=None)\n",
        "df.to_records(index=False)\n",
        "\n",
        "#print(\"data set   \" ,df)\n",
        "print(df)\n",
        "\n",
        "print(df.loc[0,0])\n",
        "print(df.loc[0,1:None])\n",
        "\n"
      ],
      "execution_count": 182,
      "outputs": [
        {
          "output_type": "stream",
          "text": [
            "       0     1     2     3     4     5     ...  3067  3068  3069  3070  3071  3072\n",
            "0         0    99    51   109   123    76  ...   175   151   165    96    76    88\n",
            "1         0   130    56   155   161    79  ...   143    78   168   157    79   178\n",
            "2         0   201   140   199   155    95  ...   248   246   247   249   247   248\n",
            "3         1   228   196   209   255   232  ...   213   195   185   231   213   201\n",
            "4         1    69    62   132    62    49  ...    82    46   133   179   141   226\n",
            "...     ...   ...   ...   ...   ...   ...  ...   ...   ...   ...   ...   ...   ...\n",
            "14995     0    88    21    64    73    11  ...    77    38    69   255   231   255\n",
            "14996     0   215   171   188   227   183  ...   246   248   245   245   247   244\n",
            "14997     0   218   212   226   215   207  ...   115    70   151   132    94   179\n",
            "14998     0   112    79   110   196   166  ...   148    91   132   164   105   151\n",
            "14999     1   193   139   171   131    83  ...   121    68    94   239   181   203\n",
            "\n",
            "[15000 rows x 3073 columns]\n",
            "0\n",
            "1        99\n",
            "2        51\n",
            "3       109\n",
            "4       123\n",
            "5        76\n",
            "       ... \n",
            "3068    151\n",
            "3069    165\n",
            "3070     96\n",
            "3071     76\n",
            "3072     88\n",
            "Name: 0, Length: 3072, dtype: int64\n"
          ],
          "name": "stdout"
        }
      ]
    },
    {
      "cell_type": "markdown",
      "metadata": {
        "id": "9WkQSPcjtu86",
        "colab_type": "text"
      },
      "source": [
        "Step 4 : Split Data set 80% train 20% test"
      ]
    },
    {
      "cell_type": "code",
      "metadata": {
        "id": "0kuFWo8kuH06",
        "colab_type": "code",
        "colab": {
          "base_uri": "https://localhost:8080/",
          "height": 51
        },
        "outputId": "dc3ffa4a-56fc-45aa-824d-425462374f8f"
      },
      "source": [
        "msk = np.random.rand(len(df)) < 0.8\n",
        "df_train = df[msk]\n",
        "df_test = df[~msk]\n",
        "print(\"train data \" ,df_train.shape)\n",
        "print(\"test data \" , df_test.shape)"
      ],
      "execution_count": 183,
      "outputs": [
        {
          "output_type": "stream",
          "text": [
            "train data  (12066, 3073)\n",
            "test data  (2934, 3073)\n"
          ],
          "name": "stdout"
        }
      ]
    },
    {
      "cell_type": "code",
      "metadata": {
        "id": "ks3ZiUMUDHlN",
        "colab_type": "code",
        "colab": {}
      },
      "source": [
        "def train(L,dataSet,C1,C2):\n",
        "    print(\"train for Label\",L)\n",
        "    print(\"train data\",dataSet.shape)\n",
        "\n",
        "    for i in range(len(dataSet)):\n",
        "        if(dataSet.iloc[i,0] == L):\n",
        "            C1.append(dataSet.iloc[i,1:None])\n",
        "        else:\n",
        "            C2.append(dataSet.iloc[i,1:None])\n",
        "    C1= np.asarray(C1)\n",
        "    C2= np.asarray(C2)\n",
        "    print(C1.shape)\n",
        "    print(C2.shape)"
      ],
      "execution_count": 0,
      "outputs": []
    },
    {
      "cell_type": "code",
      "metadata": {
        "id": "ENhiNahRzJFA",
        "colab_type": "code",
        "colab": {}
      },
      "source": [
        "    def getMean(DataSet): \n",
        "        return np.mean(DataSet, axis=0)"
      ],
      "execution_count": 0,
      "outputs": []
    },
    {
      "cell_type": "code",
      "metadata": {
        "id": "1-KI5V7bzYq_",
        "colab_type": "code",
        "colab": {}
      },
      "source": [
        "\n",
        "def getS1(C1,m1):\n",
        "    # Calculate First Term of SW\n",
        "    sumS1= np.zeros((3072,3072))\n",
        "    for i in range(len(C1)):\n",
        "        val =  np.subtract(C1[i], m1)\n",
        "        #print(\"val len: \",len(val))\n",
        "        sumS1 = sumS1 + np.dot(val.T,val) # MultiplyMatrix(val,val,0) \n",
        "    return sumS1\n",
        "\n",
        "\n",
        "def getS2(C2,m2):\n",
        "    # Calculate First Term of SW\n",
        "    sumS2= np.zeros((3072,3072))\n",
        "    for i in range(len(C2)):\n",
        "        val =  np.subtract(C2[i], m2)\n",
        "        #print(\"val len: \",len(val))\n",
        "        sumS2 = sumS2 + np.dot(val.T,val) #MultiplyMatrix(val,val,0) \n",
        "    return sumS2"
      ],
      "execution_count": 0,
      "outputs": []
    },
    {
      "cell_type": "code",
      "metadata": {
        "id": "wrqM1SxzzLz_",
        "colab_type": "code",
        "colab": {}
      },
      "source": [
        "def MultiplyMatrix(a1,a2,tr):\n",
        "    if tr==0:\n",
        "        M1 = np.matrix(a1).T\n",
        "        M2 = np.matrix(a2)\n",
        "    else:\n",
        "        M1 = np.matrix(a1)\n",
        "        M2 = np.matrix(a2).T    \n",
        "    return M1*M2"
      ],
      "execution_count": 0,
      "outputs": []
    },
    {
      "cell_type": "code",
      "metadata": {
        "id": "cnjXwSyjzeFx",
        "colab_type": "code",
        "colab": {}
      },
      "source": [
        " def getSw(S1,S2):\n",
        "    return np.add(S1,S2)\n",
        "\n",
        "def get_W(Sw, mean1, mean2):\n",
        "    m= 10^-6\n",
        "    return np.dot(np.linalg.inv(Sw+np.eye(Sw.shape[1])*m), (mean2-mean1))"
      ],
      "execution_count": 0,
      "outputs": []
    },
    {
      "cell_type": "code",
      "metadata": {
        "id": "5qXk6DzLzf8A",
        "colab_type": "code",
        "colab": {}
      },
      "source": [
        "def get_Wo(w, m1, m2):\n",
        "    negative_WT= np.negative(w)\n",
        "    print(\"negative_WT : \" , len(negative_WT))\n",
        "    add_means = np.add(m1,m2)\n",
        "    print(\"add_means : \" , len(add_means))\n",
        "    return np.dot(negative_WT.T,np.divide(add_means, 2)) #MultiplyMatrix(negative_WT, np.true_divide(add_means, 2),1)\n"
      ],
      "execution_count": 0,
      "outputs": []
    },
    {
      "cell_type": "code",
      "metadata": {
        "id": "no9mtWmVFXJF",
        "colab_type": "code",
        "colab": {}
      },
      "source": [
        "W=np.zeros((2,3072))\n",
        "W_o=np.zeros((2,1))\n",
        "\n",
        "for Label in range (2):\n",
        "    print(\"########## Loop\",Label,\"#############\")\n",
        "    C1=[]\n",
        "    C2=[]\n",
        "    train(Label,df_train,C1,C2)\n",
        "    \n",
        "    # get mean of class 1\n",
        "    m1 = getMean(C1)\n",
        "\n",
        "    # get mean of class 2\n",
        "    m2 = getMean(C2)\n",
        "\n",
        "    print(len(m1))\n",
        "    print(len(m2))\n",
        "\n",
        "    S1 = getS1(C1,m1)\n",
        "    S2 = getS2(C2,m2)\n",
        "    #print(S1(C1,m1))\n",
        "    print(\"=========================================\")\n",
        "    #print(S2(C2,m2))\n",
        "    Sw = getSw(S1,S2)\n",
        "    w = get_W(Sw, m1, m2)\n",
        "    W[Label]= copy.deepcopy(w)\n",
        "    #print(\"SW : \",Sw)\n",
        "\n",
        "    #print(\"Weight : \",w)\n",
        "    w_o = get_Wo(w, m1, m2)\n",
        "    W_o[Label]= copy.deepcopy(w_o)\n",
        "    print(\"Wo : \",w_o)\n",
        "\n"
      ],
      "execution_count": 0,
      "outputs": []
    },
    {
      "cell_type": "code",
      "metadata": {
        "id": "60Dq4VBpK2zJ",
        "colab_type": "code",
        "colab": {}
      },
      "source": [
        "Y_all = np.zeros((len(df_test),2))\n",
        "Y_weights = np.zeros((2,1))\n",
        "\n",
        "\n",
        "for i in range(len(df_test)):\n",
        "    for j in range(2):\n",
        "        w_traspose = W[j].T #1*3072\n",
        "        test_row = df_test.iloc[i,1:] #3072\n",
        "        Y=np.dot(w_traspose,test_row)+W_o[j]\n",
        "        Y_weights[j]=Y\n",
        "    Y_all[i,0]=df_test.iloc[i,0]\n",
        "    Y_all[i,1]=  np.argmax(Y_weights)\n",
        "    \n",
        "print(Y_all)\n",
        "        \n",
        "#Calculate Accuracy and Print it\n",
        "accuracy = 0\n",
        "\n",
        "for i in range(len(Y_all)):\n",
        "    if (Y_all[i,0] == Y_all[i,1]):\n",
        "        accuracy = accuracy + 1\n",
        " \n",
        "print(\"Accuracy = \",((accuracy/len(df_test))*100),\" %\")"
      ],
      "execution_count": 0,
      "outputs": []
    }
  ]
}