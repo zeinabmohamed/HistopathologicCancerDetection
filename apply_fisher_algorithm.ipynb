{
  "nbformat": 4,
  "nbformat_minor": 0,
  "metadata": {
    "colab": {
      "name": "fisher_model.ipynb",
      "provenance": [],
      "private_outputs": true,
      "include_colab_link": true
    },
    "kernelspec": {
      "name": "python3",
      "display_name": "Python 3"
    }
  },
  "cells": [
    {
      "cell_type": "markdown",
      "metadata": {
        "id": "view-in-github",
        "colab_type": "text"
      },
      "source": [
        "<a href=\"https://colab.research.google.com/github/zeinabmohamed/HistopathologicCancerDetection/blob/master/apply_fisher_algorithm.ipynb\" target=\"_parent\"><img src=\"https://colab.research.google.com/assets/colab-badge.svg\" alt=\"Open In Colab\"/></a>"
      ]
    },
    {
      "cell_type": "markdown",
      "metadata": {
        "id": "ABaSd3kejNZ2",
        "colab_type": "text"
      },
      "source": [
        "Step 1 : Adding required imports : "
      ]
    },
    {
      "cell_type": "code",
      "metadata": {
        "id": "FibkbVaYikrP",
        "colab_type": "code",
        "colab": {}
      },
      "source": [
        "#!/usr/bin/env python3\n",
        "# -*- coding: utf-8 -*-\n",
        "\"\"\"\n",
        "Created on Sun Dec 29 20:51:00 2019\n",
        "@author: minamounir\n",
        "\"\"\"\n",
        "import numpy as np\n",
        "import os\n",
        "import imageio\n",
        "import matplotlib.pylab as plt\n",
        "import copy \n",
        "import pandas as pd\n",
        "import sys\n",
        "from numpy import genfromtxt"
      ],
      "execution_count": 0,
      "outputs": []
    },
    {
      "cell_type": "markdown",
      "metadata": {
        "id": "ZhHXYm2mkN8k",
        "colab_type": "text"
      },
      "source": [
        "Step 2 : Amount the Google drive "
      ]
    },
    {
      "cell_type": "code",
      "metadata": {
        "id": "v4v7_Zhlk6xg",
        "colab_type": "code",
        "colab": {}
      },
      "source": [
        "from google.colab import drive\n",
        "drive.mount('/content/drive')"
      ],
      "execution_count": 0,
      "outputs": []
    },
    {
      "cell_type": "markdown",
      "metadata": {
        "id": "mBMLlSrDsklV",
        "colab_type": "text"
      },
      "source": [
        "Step 3  :  Read Data from CSV "
      ]
    },
    {
      "cell_type": "code",
      "metadata": {
        "id": "7OVIpIhCsjxd",
        "colab_type": "code",
        "colab": {}
      },
      "source": [
        "data_set_csv_path = \"/content/drive/My Drive/histopathologic-cancer-detection/train_6000.csv\"\n",
        "\n",
        "df = genfromtxt(data_set_csv_path, delimiter=',')\n"
      ],
      "execution_count": 0,
      "outputs": []
    },
    {
      "cell_type": "markdown",
      "metadata": {
        "id": "9WkQSPcjtu86",
        "colab_type": "text"
      },
      "source": [
        "Step 4 : Split Data set 80% train 20% test"
      ]
    },
    {
      "cell_type": "code",
      "metadata": {
        "id": "0kuFWo8kuH06",
        "colab_type": "code",
        "colab": {}
      },
      "source": [
        "msk = np.random.rand(len(df)) < 0.8\n",
        "\n",
        "df_train = df[msk]\n",
        "df_test = df[~msk]"
      ],
      "execution_count": 0,
      "outputs": []
    },
    {
      "cell_type": "code",
      "metadata": {
        "colab_type": "code",
        "id": "R9zBn-Sgid_7",
        "colab": {}
      },
      "source": [
        "\n",
        "\n",
        "Vectors=[]\n",
        "counterIndex=0\n",
        "## prepare train data \n",
        "for index, dataRow in df_train.iterrows(): \n",
        "    counterIndex+=1\n",
        "    imageId = dataRow.loc['id']\n",
        "       \n",
        "    v = getVectorFromCsv(\"./histopathologic-cancer-detection/DataSet2/\"+imageId+\".csv\")\n",
        "    Vectors.append(v)\n",
        "    if(counterIndex%1000 == 0):\n",
        "        print(counterIndex*100/rangOfTrainData)\n",
        "\n",
        "print(Vectors[0][0]) #vector \n",
        "\n",
        "test_Vectors=[]\n",
        "counterIndex=0  \n",
        "## Prepare test data \n",
        "for index, dataRow in df_test.iterrows(): \n",
        "    counterIndex+=1\n",
        "    imageId = dataRow.loc['id']\n",
        "       \n",
        "    v = getVectorFromCsv(\"./histopathologic-cancer-detection/DataSet2/\"+imageId+\".csv\")\n",
        "    test_Vectors.append(v)\n",
        "    if(counterIndex%1000 == 0):\n",
        "        print(counterIndex*100/rangOfTestData)\n",
        "        \n",
        "print(test_Vectors[0][0]) #vector \n",
        "print(test_Vectors[0][1]) #vector \n",
        "\n",
        "\n",
        "#if(Vectors[i][1] == 0):\n",
        "#print('>>>>>> Mina <<<<<<<')\n",
        "\n",
        "#print(Vectors[0][0]) #vector   \n",
        "#print(Vectors[0][1]) #labels\n",
        "    \n",
        "\n",
        "C1=[]\n",
        "C2=[]\n",
        "\n",
        "def train(L,C1,C2):\n",
        "\n",
        "    print(\"L\",L)\n",
        "    print(\"len(Vectors)\",len(Vectors))\n",
        "    \n",
        "    for i in range(len(Vectors)):\n",
        "        if(Vectors[i][1] == L):\n",
        "            C1.append(Vectors[i][0])\n",
        "        else:\n",
        "            C2.append(Vectors[i][0])\n",
        "    C1= np.asarray(C1)\n",
        "    #print(\"mean C1: \",len(np.mean(C1, axis=0)))\n",
        "    \n",
        "    C2= np.asarray(C2)\n",
        "    print(len(C1))\n",
        "    print(len(C2))\n",
        "    \n",
        "        \n",
        "def getMean(DataSet): \n",
        "    return np.mean(DataSet, axis=0)\n",
        "\n",
        "def MultiplyMatrix(a1,a2,tr):\n",
        "    if tr==0:\n",
        "        M1 = np.matrix(a1).T\n",
        "        M2 = np.matrix(a2)\n",
        "    else:\n",
        "        M1 = np.matrix(a1)\n",
        "        M2 = np.matrix(a2).T    \n",
        "    return M1*M2\n",
        "\n",
        "\n",
        "\n",
        "def getS1(C1,m1):\n",
        "    # Calculate First Term of SW\n",
        "    sumS1= np.zeros((3072,3072))\n",
        "    for i in range(len(C1)):\n",
        "        val =  np.subtract(C1[i], m1)\n",
        "        #print(\"val len: \",len(val))\n",
        "        sumS1 = sumS1 + np.dot(val.T,val) # MultiplyMatrix(val,val,0) \n",
        "    return sumS1\n",
        "\n",
        "\n",
        "def getS2(C2,m2):\n",
        "    # Calculate First Term of SW\n",
        "    sumS2= np.zeros((3072,3072))\n",
        "    for i in range(len(C2)):\n",
        "        val =  np.subtract(C2[i], m2)\n",
        "        #print(\"val len: \",len(val))\n",
        "        sumS2 = sumS2 + np.dot(val.T,val) #MultiplyMatrix(val,val,0) \n",
        "     \n",
        "   \n",
        "    return sumS2 \n",
        "\n",
        "\n",
        "def getSw(S1,S2):\n",
        "    return np.add(S1,S2)\n",
        "\n",
        "def get_W(Sw, mean1, mean2):\n",
        "    m= 10^-6\n",
        "    return np.dot(np.linalg.inv(Sw+np.eye(Sw.shape[1])*m), (mean2-mean1))\n",
        "    \n",
        "\n",
        "\n",
        "def get_Wo(w, m1, m2):\n",
        "    negative_WT= np.negative(w)\n",
        "    print(\"negative_WT : \" , len(negative_WT))\n",
        "    add_means = np.add(m1,m2)\n",
        "    print(\"add_means : \" , len(add_means))\n",
        "    return np.dot(negative_WT.T,np.divide(add_means, 2)) #MultiplyMatrix(negative_WT, np.true_divide(add_means, 2),1)\n",
        "    \n",
        "\n",
        "W=np.zeros((2,3072))\n",
        "W_o=np.zeros((2,1))\n",
        "\n",
        "\n",
        "for Label in range (2):\n",
        "    print(\"########## Loop\",Label,\"#############\")\n",
        "    C1=[]\n",
        "    C2=[]\n",
        "    train(Label,C1,C2)\n",
        "\n",
        "    # get mean of class 1\n",
        "    m1 = getMean(C1)\n",
        "\n",
        "    # get mean of class 2\n",
        "    m2 = getMean(C2)\n",
        "\n",
        "    print(len(m1))\n",
        "    print(len(m2))\n",
        "\n",
        "    S1 = getS1(C1,m1)\n",
        "    S2 = getS2(C2,m2)\n",
        "    #print(S1(C1,m1))\n",
        "    #print(\"=========================================\")\n",
        "    #print(S2(C2,m2))\n",
        "    Sw = getSw(S1,S2)\n",
        "    w = get_W(Sw, m1, m2)\n",
        "    W[Label]= copy.deepcopy(w)\n",
        "    #print(\"SW : \",Sw)\n",
        "\n",
        "    #print(\"Weight : \",w)\n",
        "    w_o = get_Wo(w, m1, m2)\n",
        "    W_o[Label]= copy.deepcopy(w_o)\n",
        "    print(\"Wo : \",w_o)\n",
        "            \n",
        "\n",
        "#-----------------Testing---------------\n",
        "#os.chdir(\"/Users/minamounir\")\n",
        "    \n",
        "    \n",
        "def readAllImagesFromTest_cropped(path):\n",
        "    files = os.listdir(path)\n",
        "    for name in files:\n",
        "     df.append(name)\n",
        "    return df \n",
        "\n",
        "\n",
        "'''\n",
        "test_Vectors=[]\n",
        "\n",
        "#for i in range(len(Vectors)):\n",
        "\n",
        "df= readAllImagesFromTest_cropped(\"./histopathologic-cancer-detection/test_cropped\")\n",
        "#print(df)\n",
        "\n",
        "n=100000\n",
        "for i in range (n): #range(len(df)):\n",
        "    id = df.loc[i,0]\n",
        "       \n",
        "    v = getVectorFromCsv(\"./histopathologic-cancer-detection/test_cropped/\"+id+\".csv\")\n",
        "    test_Vectors.append(v)\n",
        "    if(i%1000 == 0):\n",
        "        print(i*100/n)\n",
        "    \n",
        "print(test_Vectors[0][1]) #vector \n",
        "'''\n",
        "\n",
        "Y_all = np.zeros((len(df_test),2))\n",
        "Y_weights = np.zeros((2,1))\n",
        "\n",
        "\n",
        "for i in range(len(test_Vectors)):\n",
        "    for j in range(2):\n",
        "        w_traspose = W[j].T #1*3072\n",
        "        test_row = test_Vectors[i][0] #3072\n",
        "        Y=np.dot(w_traspose,test_row)+W_o[j]\n",
        "        Y_weights[j]=Y\n",
        "    Y_all[i,0]=test_Vectors[i][1]\n",
        "    Y_all[i,1]=  np.argmax(Y_weights)\n",
        "    \n",
        "print(Y_all)\n",
        "        \n",
        "#Calculate Accuracy and Print it\n",
        "accuracy = 0\n",
        "\n",
        "for i in range(len(Y_all)):\n",
        "    if (Y_all[i,0] == Y_all[i,1]):\n",
        "        accuracy = accuracy + 1\n",
        " \n",
        "print(\"Accuracy = \",((accuracy/rangOfTestData)*100),\" %\")\n",
        "    \n"
      ],
      "execution_count": 0,
      "outputs": []
    },
    {
      "cell_type": "code",
      "metadata": {
        "id": "_SKZBflsihQL",
        "colab_type": "code",
        "colab": {}
      },
      "source": [
        ""
      ],
      "execution_count": 0,
      "outputs": []
    },
    {
      "cell_type": "code",
      "metadata": {
        "id": "6_J253cOiZc7",
        "colab_type": "code",
        "colab": {}
      },
      "source": [
        ""
      ],
      "execution_count": 0,
      "outputs": []
    }
  ]
}