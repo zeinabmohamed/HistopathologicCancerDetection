{
 "cells": [
  {
   "cell_type": "markdown",
   "metadata": {},
   "source": [
    "# Importing Libraries"
   ]
  },
  {
   "cell_type": "code",
   "execution_count": 19,
   "metadata": {},
   "outputs": [],
   "source": [
    "import numpy as np\n",
    "import matplotlib.pyplot as plt\n",
    "%matplotlib inline\n",
    "import os\n",
    "from PIL import Image\n",
    "import imageio\n",
    "import seaborn as sns\n",
    "from tqdm import tqdm_notebook as tqdm\n",
    "import pandas as pd\n",
    "from skimage.feature import hog\n",
    "from skimage.color import rgb2grey\n",
    "from sklearn.model_selection import train_test_split\n",
    "from sklearn.metrics import accuracy_score,roc_curve, auc,classification_report, confusion_matrix\n",
    "from sklearn.preprocessing import StandardScaler\n",
    "from sklearn.decomposition import PCA\n",
    "from scipy import stats\n",
    "import sys\n"
   ]
  },
  {
   "cell_type": "markdown",
   "metadata": {},
   "source": [
    "# Loading CSVs of both Images and Falttened Features Dataset"
   ]
  },
  {
   "cell_type": "code",
   "execution_count": 344,
   "metadata": {},
   "outputs": [],
   "source": [
    "#Images\n",
    "#data2 = pd.read_csv(\"C:/Users/KareemRashwan/Desktop/TESTTT.csv\",index_col=0) #10 Images\n",
    "data2 = pd.read_csv(\"C:/Users/KareemRashwan/Desktop/Train10.csv\",index_col=0) #500 Image\n",
    "\n",
    "#Flattened CSV\n",
    "data = pd.read_csv(\"C:/Users/KareemRashwan/Desktop/train_6000.csv\", header=None)\n",
    "\n",
    "# Get Image from data2\n",
    "def get_image(row_id, root=\"C:/Users/KareemRashwan/Desktop/train_min-20200102T081544Z-001/train_min/\"):\n",
    "    \"\"\"\n",
    "    Converts an image number into the file path where the image is located, \n",
    "    opens the image, and returns the image as a numpy array.\n",
    "    \"\"\"\n",
    "    filename = \"{}.tif\".format(row_id)\n",
    "    file_path = os.path.join(root, filename)\n",
    "    img = Image.open(file_path)\n",
    "    return np.array(img)\n",
    "    "
   ]
  },
  {
   "cell_type": "markdown",
   "metadata": {},
   "source": [
    "Run when using Images Data"
   ]
  },
  {
   "cell_type": "code",
   "execution_count": 345,
   "metadata": {},
   "outputs": [
    {
     "data": {
      "text/html": [
       "<div>\n",
       "<style scoped>\n",
       "    .dataframe tbody tr th:only-of-type {\n",
       "        vertical-align: middle;\n",
       "    }\n",
       "\n",
       "    .dataframe tbody tr th {\n",
       "        vertical-align: top;\n",
       "    }\n",
       "\n",
       "    .dataframe thead th {\n",
       "        text-align: right;\n",
       "    }\n",
       "</style>\n",
       "<table border=\"1\" class=\"dataframe\">\n",
       "  <thead>\n",
       "    <tr style=\"text-align: right;\">\n",
       "      <th></th>\n",
       "      <th>labels</th>\n",
       "    </tr>\n",
       "    <tr>\n",
       "      <th>id</th>\n",
       "      <th></th>\n",
       "    </tr>\n",
       "  </thead>\n",
       "  <tbody>\n",
       "    <tr>\n",
       "      <th>eca027e439de9ddd9500af73e092c26a27e1821d</th>\n",
       "      <td>1</td>\n",
       "    </tr>\n",
       "    <tr>\n",
       "      <th>f6366f772c75702e696325d0c9054922c3120987</th>\n",
       "      <td>0</td>\n",
       "    </tr>\n",
       "    <tr>\n",
       "      <th>d46b4e68b13014f730dc36123c27f1409965f971</th>\n",
       "      <td>1</td>\n",
       "    </tr>\n",
       "    <tr>\n",
       "      <th>fbf27cd471864ec069365a2319da09fee9dfafe6</th>\n",
       "      <td>0</td>\n",
       "    </tr>\n",
       "    <tr>\n",
       "      <th>dc7020bfdf90b844ed790bfe5121b4d63d640038</th>\n",
       "      <td>1</td>\n",
       "    </tr>\n",
       "    <tr>\n",
       "      <th>...</th>\n",
       "      <td>...</td>\n",
       "    </tr>\n",
       "    <tr>\n",
       "      <th>eb04d6ebf73e686ecc7d5978d5a70e69ac40e37d</th>\n",
       "      <td>0</td>\n",
       "    </tr>\n",
       "    <tr>\n",
       "      <th>e69107dae64349d24f5fec9b6dc49cc02772d867</th>\n",
       "      <td>0</td>\n",
       "    </tr>\n",
       "    <tr>\n",
       "      <th>e7db48b868488f7c9bb09beced78f412e0b707c3</th>\n",
       "      <td>0</td>\n",
       "    </tr>\n",
       "    <tr>\n",
       "      <th>fcb7e3c23b15cae0ad90cc4256e421f4cb7166e8</th>\n",
       "      <td>0</td>\n",
       "    </tr>\n",
       "    <tr>\n",
       "      <th>e6981957bd44d61a45dfc5f0ca4cc80a77742342</th>\n",
       "      <td>0</td>\n",
       "    </tr>\n",
       "  </tbody>\n",
       "</table>\n",
       "<p>499 rows × 1 columns</p>\n",
       "</div>"
      ],
      "text/plain": [
       "                                          labels\n",
       "id                                              \n",
       "eca027e439de9ddd9500af73e092c26a27e1821d       1\n",
       "f6366f772c75702e696325d0c9054922c3120987       0\n",
       "d46b4e68b13014f730dc36123c27f1409965f971       1\n",
       "fbf27cd471864ec069365a2319da09fee9dfafe6       0\n",
       "dc7020bfdf90b844ed790bfe5121b4d63d640038       1\n",
       "...                                          ...\n",
       "eb04d6ebf73e686ecc7d5978d5a70e69ac40e37d       0\n",
       "e69107dae64349d24f5fec9b6dc49cc02772d867       0\n",
       "e7db48b868488f7c9bb09beced78f412e0b707c3       0\n",
       "fcb7e3c23b15cae0ad90cc4256e421f4cb7166e8       0\n",
       "e6981957bd44d61a45dfc5f0ca4cc80a77742342       0\n",
       "\n",
       "[499 rows x 1 columns]"
      ]
     },
     "execution_count": 345,
     "metadata": {},
     "output_type": "execute_result"
    }
   ],
   "source": [
    "data2"
   ]
  },
  {
   "cell_type": "code",
   "execution_count": 346,
   "metadata": {},
   "outputs": [
    {
     "data": {
      "text/html": [
       "<div>\n",
       "<style scoped>\n",
       "    .dataframe tbody tr th:only-of-type {\n",
       "        vertical-align: middle;\n",
       "    }\n",
       "\n",
       "    .dataframe tbody tr th {\n",
       "        vertical-align: top;\n",
       "    }\n",
       "\n",
       "    .dataframe thead th {\n",
       "        text-align: right;\n",
       "    }\n",
       "</style>\n",
       "<table border=\"1\" class=\"dataframe\">\n",
       "  <thead>\n",
       "    <tr style=\"text-align: right;\">\n",
       "      <th></th>\n",
       "      <th>labels</th>\n",
       "    </tr>\n",
       "    <tr>\n",
       "      <th>id</th>\n",
       "      <th></th>\n",
       "    </tr>\n",
       "  </thead>\n",
       "  <tbody>\n",
       "    <tr>\n",
       "      <th>eca027e439de9ddd9500af73e092c26a27e1821d</th>\n",
       "      <td>1</td>\n",
       "    </tr>\n",
       "    <tr>\n",
       "      <th>f6366f772c75702e696325d0c9054922c3120987</th>\n",
       "      <td>0</td>\n",
       "    </tr>\n",
       "    <tr>\n",
       "      <th>d46b4e68b13014f730dc36123c27f1409965f971</th>\n",
       "      <td>1</td>\n",
       "    </tr>\n",
       "    <tr>\n",
       "      <th>fbf27cd471864ec069365a2319da09fee9dfafe6</th>\n",
       "      <td>0</td>\n",
       "    </tr>\n",
       "    <tr>\n",
       "      <th>dc7020bfdf90b844ed790bfe5121b4d63d640038</th>\n",
       "      <td>1</td>\n",
       "    </tr>\n",
       "  </tbody>\n",
       "</table>\n",
       "</div>"
      ],
      "text/plain": [
       "                                          labels\n",
       "id                                              \n",
       "eca027e439de9ddd9500af73e092c26a27e1821d       1\n",
       "f6366f772c75702e696325d0c9054922c3120987       0\n",
       "d46b4e68b13014f730dc36123c27f1409965f971       1\n",
       "fbf27cd471864ec069365a2319da09fee9dfafe6       0\n",
       "dc7020bfdf90b844ed790bfe5121b4d63d640038       1"
      ]
     },
     "execution_count": 346,
     "metadata": {},
     "output_type": "execute_result"
    }
   ],
   "source": [
    "data2.head()"
   ]
  },
  {
   "cell_type": "code",
   "execution_count": 347,
   "metadata": {},
   "outputs": [
    {
     "data": {
      "text/plain": [
       "<matplotlib.axes._subplots.AxesSubplot at 0x1e9f67a6b70>"
      ]
     },
     "execution_count": 347,
     "metadata": {},
     "output_type": "execute_result"
    },
    {
     "data": {
      "image/png": "[encoded data removed]",
      "text/plain": [
       "<matplotlib.figure.Figure at 0x1e9f66bb898>"
      ]
     },
     "metadata": {},
     "output_type": "display_data"
    }
   ],
   "source": [
    "sns.countplot(x='labels',data=data2)"
   ]
  },
  {
   "cell_type": "markdown",
   "metadata": {},
   "source": [
    "Run when using Features CSV Only"
   ]
  },
  {
   "cell_type": "code",
   "execution_count": null,
   "metadata": {},
   "outputs": [],
   "source": [
    "data"
   ]
  },
  {
   "cell_type": "code",
   "execution_count": null,
   "metadata": {},
   "outputs": [],
   "source": [
    "# Rename last column from 3072 to labels\n",
    "data.rename(columns = {3072:'labels'}, inplace = True) \n"
   ]
  },
  {
   "cell_type": "code",
   "execution_count": null,
   "metadata": {},
   "outputs": [],
   "source": [
    "features = data.loc[:, data.columns != 'labels']"
   ]
  },
  {
   "cell_type": "code",
   "execution_count": null,
   "metadata": {},
   "outputs": [],
   "source": [
    "labels = data['labels']"
   ]
  },
  {
   "cell_type": "code",
   "execution_count": null,
   "metadata": {},
   "outputs": [],
   "source": [
    "labels.head()"
   ]
  },
  {
   "cell_type": "code",
   "execution_count": null,
   "metadata": {},
   "outputs": [],
   "source": [
    "features.head()"
   ]
  },
  {
   "cell_type": "code",
   "execution_count": null,
   "metadata": {
    "scrolled": true
   },
   "outputs": [],
   "source": [
    "sns.countplot(x='labels',data=data)"
   ]
  },
  {
   "cell_type": "markdown",
   "metadata": {},
   "source": [
    "# Trial load to when using Images Data"
   ]
  },
  {
   "cell_type": "code",
   "execution_count": 348,
   "metadata": {},
   "outputs": [
    {
     "data": {
      "image/png": "[encoded data removed]",
      "text/plain": [
       "<matplotlib.figure.Figure at 0x1e9f66eb4a8>"
      ]
     },
     "metadata": {},
     "output_type": "display_data"
    },
    {
     "data": {
      "image/png": "[encoded data removed]",
      "text/plain": [
       "<matplotlib.figure.Figure at 0x1e9f6861d30>"
      ]
     },
     "metadata": {},
     "output_type": "display_data"
    }
   ],
   "source": [
    "#Get the first image that has label 1 (Benign)\n",
    "Benign = data2[data2.labels == 1.0].index[0]\n",
    "# show the corresponding image\n",
    "plt.imshow(get_image(Benign))\n",
    "plt.show()\n",
    "\n",
    "\n",
    "\n",
    "#Get the first image that has label 0 (Malignant)\n",
    "Malignant = data2[data2.labels == 0.0].index[0]\n",
    "# show the corresponding image\n",
    "plt.imshow(get_image(Malignant))\n",
    "plt.show()"
   ]
  },
  {
   "cell_type": "code",
   "execution_count": 349,
   "metadata": {},
   "outputs": [
    {
     "name": "stdout",
     "output_type": "stream",
     "text": [
      "Colored Malignant image has shape:  [[[198 163 183]\n",
      "  [216 183 200]\n",
      "  [241 211 223]\n",
      "  ...\n",
      "  [253 252 250]\n",
      "  [249 248 246]\n",
      "  [243 242 240]]\n",
      "\n",
      " [[198 160 183]\n",
      "  [211 173 194]\n",
      "  [231 197 214]\n",
      "  ...\n",
      "  [250 246 245]\n",
      "  [252 248 247]\n",
      "  [249 245 244]]\n",
      "\n",
      " [[210 167 195]\n",
      "  [190 150 177]\n",
      "  [204 164 191]\n",
      "  ...\n",
      "  [242 232 233]\n",
      "  [240 230 231]\n",
      "  [234 224 225]]\n",
      "\n",
      " ...\n",
      "\n",
      " [[197 149 165]\n",
      "  [176 129 149]\n",
      "  [153 105 127]\n",
      "  ...\n",
      "  [206 160 188]\n",
      "  [205 159 187]\n",
      "  [204 158 186]]\n",
      "\n",
      " [[209 153 178]\n",
      "  [206 150 177]\n",
      "  [255 222 254]\n",
      "  ...\n",
      "  [210 164 193]\n",
      "  [208 162 191]\n",
      "  [206 160 189]]\n",
      "\n",
      " [[181 120 153]\n",
      "  [164 103 137]\n",
      "  [183 121 160]\n",
      "  ...\n",
      "  [206 157 187]\n",
      "  [203 157 186]\n",
      "  [202 156 185]]]\n"
     ]
    },
    {
     "data": {
      "image/png": "[encoded data removed]",
      "text/plain": [
       "<matplotlib.figure.Figure at 0x1e9f6827588>"
      ]
     },
     "metadata": {},
     "output_type": "display_data"
    }
   ],
   "source": [
    "# Shape of malignant Image\n",
    "MalignantColor = get_image(Malignant)\n",
    "plt.imshow(MalignantColor, cmap=plt.cm.gray)\n",
    "print('Colored Malignant image has shape: ', MalignantColor)"
   ]
  },
  {
   "cell_type": "code",
   "execution_count": 350,
   "metadata": {},
   "outputs": [
    {
     "name": "stdout",
     "output_type": "stream",
     "text": [
      "Grayscale Malignant image has shape:  [[0.67403725 0.74995373 0.85584392 ... 0.98850314 0.97281686 0.94928745]\n",
      " [0.66562078 0.71603569 0.80568902 ... 0.96775647 0.97559961 0.9638349 ]\n",
      " [0.69865216 0.62920275 0.68410471 ... 0.91842    0.91057686 0.88704745]\n",
      " ...\n",
      " [0.62883765 0.55070392 0.4579851  ... 0.67370118 0.66977961 0.66585804]\n",
      " [0.65373529 0.64253608 0.90713608 ... 0.6896702  0.68182706 0.67398392]\n",
      " [0.53075216 0.46436824 0.53720353 ... 0.66500196 0.66221922 0.65829765]]\n"
     ]
    },
    {
     "data": {
      "image/png": "[encoded data removed]",
      "text/plain": [
       "<matplotlib.figure.Figure at 0x1e9f68cb710>"
      ]
     },
     "metadata": {},
     "output_type": "display_data"
    }
   ],
   "source": [
    "# convert the Malignant image to grayscale\n",
    "MalignantGray = rgb2grey(MalignantColor)\n",
    "plt.imshow(MalignantGray, cmap=plt.cm.gray)\n",
    "print('Grayscale Malignant image has shape: ', MalignantGray)"
   ]
  },
  {
   "cell_type": "code",
   "execution_count": 351,
   "metadata": {},
   "outputs": [
    {
     "data": {
      "text/plain": [
       "<matplotlib.image.AxesImage at 0x1e980220588>"
      ]
     },
     "execution_count": 351,
     "metadata": {},
     "output_type": "execute_result"
    },
    {
     "data": {
      "image/png": "[encoded data removed]",
      "text/plain": [
       "<matplotlib.figure.Figure at 0x1e980044828>"
      ]
     },
     "metadata": {},
     "output_type": "display_data"
    }
   ],
   "source": [
    "# create Histogram of Oriented Gradients using greyscale Malignant image creating 2 pixels per cell\n",
    "hog_features, hog_image = hog(MalignantGray,\n",
    "                              visualise=True,\n",
    "                              block_norm='L2-Hys',\n",
    "                              pixels_per_cell=(2, 2))\n",
    "\n",
    "plt.imshow(hog_image, cmap=plt.cm.gray)\n"
   ]
  },
  {
   "cell_type": "markdown",
   "metadata": {},
   "source": [
    "# Creating Methods to extract features when using Images Data"
   ]
  },
  {
   "cell_type": "code",
   "execution_count": 352,
   "metadata": {},
   "outputs": [],
   "source": [
    "# Create Features of an Image\n",
    "def create_features(img):\n",
    "    # flatten colored images\n",
    "    color_features = img.flatten()\n",
    "    # convert image to greyscale\n",
    "    gray_image = rgb2grey(img)\n",
    "    # HOG features from greyscale image\n",
    "    hog_features = hog(gray_image, block_norm='L2-Hys', pixels_per_cell=(1, 1))\n",
    "    # combine color and hog feature\n",
    "    flat_features = np.hstack(color_features)\n",
    "    return flat_features\n",
    "\n",
    "#Malignant_features = create_features(MalignantColor)\n",
    "#print(Malignant_features)\n"
   ]
  },
  {
   "cell_type": "code",
   "execution_count": 353,
   "metadata": {},
   "outputs": [],
   "source": [
    "#Create Feature Matrix for all images\n",
    "def create_feature_matrix(label_dataframe):\n",
    "    features_list = []\n",
    "    for i in tqdm(label_dataframe.index):\n",
    "            # load image\n",
    "            i = get_image(i)\n",
    "            # get features for image\n",
    "            image_features = create_features(i)\n",
    "            features_list.append(image_features)\n",
    "        \n",
    "    # convert list of arrays into a matrix\n",
    "    # rows are images and columns are features.\n",
    "    feature_matrix = np.array(features_list)\n",
    "    return feature_matrix\n"
   ]
  },
  {
   "cell_type": "code",
   "execution_count": 354,
   "metadata": {},
   "outputs": [
    {
     "name": "stdout",
     "output_type": "stream",
     "text": [
      "Creating Features Started!!\n"
     ]
    },
    {
     "data": {
      "application/vnd.jupyter.widget-view+json": {
       "model_id": "4f9e178b5c7143848db955962aa18689",
       "version_major": 2,
       "version_minor": 0
      },
      "text/html": [
       "<p>Failed to display Jupyter Widget of type <code>HBox</code>.</p>\n",
       "<p>\n",
       "  If you're reading this message in the Jupyter Notebook or JupyterLab Notebook, it may mean\n",
       "  that the widgets JavaScript is still loading. If this message persists, it\n",
       "  likely means that the widgets JavaScript library is either not installed or\n",
       "  not enabled. See the <a href=\"https://ipywidgets.readthedocs.io/en/stable/user_install.html\">Jupyter\n",
       "  Widgets Documentation</a> for setup instructions.\n",
       "</p>\n",
       "<p>\n",
       "  If you're reading this message in another frontend (for example, a static\n",
       "  rendering on GitHub or <a href=\"https://nbviewer.jupyter.org/\">NBViewer</a>),\n",
       "  it may mean that your frontend doesn't currently support widgets.\n",
       "</p>\n"
      ],
      "text/plain": [
       "HBox(children=(IntProgress(value=0, max=499), HTML(value='')))"
      ]
     },
     "metadata": {},
     "output_type": "display_data"
    },
    {
     "name": "stdout",
     "output_type": "stream",
     "text": [
      "\n",
      "Feature matrix shape is:  (499, 27648)\n"
     ]
    }
   ],
   "source": [
    "# create_feature_matrix on images\n",
    "print(\"Creating Features Started!!\")\n",
    "feature_matrix = create_feature_matrix(data2)\n",
    "print('Feature matrix shape is: ', feature_matrix.shape)"
   ]
  },
  {
   "cell_type": "code",
   "execution_count": 355,
   "metadata": {},
   "outputs": [],
   "source": [
    "#Saving in other varible as backup\n",
    "feature_matrix2 = feature_matrix"
   ]
  },
  {
   "cell_type": "markdown",
   "metadata": {},
   "source": [
    "# Standerdize extracted Features and Run PCA to detrmine number of components"
   ]
  },
  {
   "cell_type": "markdown",
   "metadata": {},
   "source": [
    "Run when using Images Data"
   ]
  },
  {
   "cell_type": "code",
   "execution_count": 356,
   "metadata": {},
   "outputs": [
    {
     "name": "stdout",
     "output_type": "stream",
     "text": [
      "Data matrix shape is:  (499, 27648)\n"
     ]
    }
   ],
   "source": [
    "print('Data matrix shape is: ', feature_matrix.shape)"
   ]
  },
  {
   "cell_type": "code",
   "execution_count": 357,
   "metadata": {},
   "outputs": [
    {
     "name": "stderr",
     "output_type": "stream",
     "text": [
      "C:\\Users\\KareemRashwan\\Anaconda3\\lib\\site-packages\\sklearn\\utils\\validation.py:475: DataConversionWarning: Data with input dtype uint8 was converted to float64 by StandardScaler.\n",
      "  warnings.warn(msg, DataConversionWarning)\n"
     ]
    },
    {
     "name": "stdout",
     "output_type": "stream",
     "text": [
      "Feature matrix shape is:  (499, 27648)\n"
     ]
    }
   ],
   "source": [
    "# Run when using Images Data\n",
    "# standard scaler to bring feature to same level of magintude\n",
    "SC = StandardScaler()\n",
    "# scale the feature matrix\n",
    "scaled_feature_matrix = SC.fit_transform(feature_matrix)\n",
    "print('Feature matrix shape is: ', scaled_feature_matrix.shape)"
   ]
  },
  {
   "cell_type": "markdown",
   "metadata": {},
   "source": [
    "Run when using Features CSV Only"
   ]
  },
  {
   "cell_type": "code",
   "execution_count": null,
   "metadata": {},
   "outputs": [],
   "source": [
    "print('Feature matrix shape is: ', features.shape)"
   ]
  },
  {
   "cell_type": "code",
   "execution_count": null,
   "metadata": {},
   "outputs": [],
   "source": [
    "# standard scaler to bring feature to same level of magintude on Features CSV\n",
    "SC = StandardScaler()\n",
    "# scale the feature matrix\n",
    "scaled_feature_matrix = SC.fit_transform(features)\n",
    "print('Feature matrix shape is: ', scaled_feature_matrix.shape)"
   ]
  },
  {
   "cell_type": "markdown",
   "metadata": {},
   "source": [
    "Run on Both "
   ]
  },
  {
   "cell_type": "code",
   "execution_count": 358,
   "metadata": {},
   "outputs": [
    {
     "name": "stdout",
     "output_type": "stream",
     "text": [
      "PCA Scaled Featured Matrix shape is:  (499, 2)\n"
     ]
    }
   ],
   "source": [
    "# run PCA on  standardized matrix\n",
    "pca = PCA(n_components=2)\n",
    "pcasfm = pca.fit_transform(scaled_feature_matrix)\n",
    "print('PCA Scaled Featured Matrix shape is: ', pcasfm.shape)"
   ]
  },
  {
   "cell_type": "code",
   "execution_count": 359,
   "metadata": {},
   "outputs": [
    {
     "name": "stdout",
     "output_type": "stream",
     "text": [
      "[[ 1.50828945e+02 -1.80130358e+01]\n",
      " [-7.50694797e+01 -1.43822126e+01]\n",
      " [-3.93517249e+01 -3.37347027e+00]\n",
      " [-1.65269939e+02 -1.70644944e-01]\n",
      " [ 1.07111040e+00 -1.88815225e+01]\n",
      " [ 5.52194749e+01 -2.55242871e+01]\n",
      " [-1.47716472e+02  3.26634860e+00]\n",
      " [ 6.63336206e+01 -1.87220029e+01]\n",
      " [ 2.05932429e+02 -2.28205975e+01]\n",
      " [ 1.09027091e+01  3.35030227e+01]\n",
      " [-3.58027707e+01  3.19714366e+01]\n",
      " [ 1.29330145e+02 -1.90226669e+01]\n",
      " [-3.42609471e+00  2.65571404e+01]\n",
      " [-1.68387615e+02 -1.39139660e+00]\n",
      " [ 1.60694674e+02  4.68296669e+01]\n",
      " [-2.08947696e+02  1.99624408e+00]\n",
      " [-1.91821166e+02 -2.80970217e+00]\n",
      " [-4.48745957e+01  4.47752570e+00]\n",
      " [ 4.19784384e+01  2.78404798e+01]\n",
      " [-1.72196416e+02 -3.01749211e-01]\n",
      " [ 1.04690867e+02 -3.14612558e+01]\n",
      " [ 1.35393945e+02  4.84366868e+01]\n",
      " [-1.02337887e+02 -2.38206258e+01]\n",
      " [-1.92877534e+00  2.32008538e+01]\n",
      " [ 1.26020663e+02 -1.66674169e+01]\n",
      " [ 1.04146628e+02  5.23750093e+01]\n",
      " [ 7.69995631e+01 -3.50406512e+01]\n",
      " [ 2.16018141e+01 -1.97406031e+01]\n",
      " [ 8.10959156e+01 -2.68466851e+01]\n",
      " [-7.04724744e+01 -1.77700169e+01]\n",
      " [-7.66341505e+01 -6.64889137e+00]\n",
      " [-2.48487301e+01 -4.41925934e+00]\n",
      " [-1.76688574e+02 -2.90969837e-01]\n",
      " [-1.12438590e+02  1.22313434e+01]\n",
      " [ 2.02413794e+01 -1.79312834e+01]\n",
      " [-1.39594664e+02  1.85172167e+00]\n",
      " [-1.94689415e+02 -2.85323394e+00]\n",
      " [ 1.48801923e+02 -2.24863547e+01]\n",
      " [ 1.66061037e+02  4.90850497e+01]\n",
      " [ 2.42041838e+01  2.96792390e+01]\n",
      " [ 1.50143134e+02 -2.61206733e+01]\n",
      " [ 1.17390304e+02 -3.50019338e+01]\n",
      " [-1.64677041e+02  6.49229617e+00]\n",
      " [ 1.70008889e+02 -2.56836580e+01]\n",
      " [ 1.55483430e+01  3.65811922e+01]\n",
      " [ 7.66823372e+01  4.81352864e+01]\n",
      " [-1.46170711e+02  7.39552571e+00]\n",
      " [-3.20771605e+01 -1.87354548e+01]\n",
      " [ 1.30722048e+02 -2.66520971e+01]\n",
      " [-1.41255514e+02 -1.82041291e+01]\n",
      " [-1.19082614e+02  6.62912977e+00]\n",
      " [-8.57513753e+01  1.65671660e+01]\n",
      " [ 5.53717768e+01  3.93959158e+01]\n",
      " [-3.32815385e+01 -1.48655663e+01]\n",
      " [-1.47660891e+02  1.53155652e-01]\n",
      " [-3.25552206e+01 -2.36272818e+01]\n",
      " [ 4.16693423e+01  3.76360006e+01]\n",
      " [-5.16808736e+01 -1.18826856e+01]\n",
      " [-1.97744494e+01 -1.61296467e+01]\n",
      " [-1.73916069e+02 -1.32380034e+01]\n",
      " [-1.06360302e+02 -1.46620982e+01]\n",
      " [-1.82551335e+02  4.18817786e+00]\n",
      " [ 1.52121968e+02 -2.06971915e+01]\n",
      " [-2.74703303e+01 -8.33783771e+00]\n",
      " [-1.66565678e+02 -4.45491800e+00]\n",
      " [ 6.32553758e+01  3.91470587e+01]\n",
      " [ 4.13323738e+01  2.44003463e+01]\n",
      " [-6.41778677e+01 -1.38581889e+01]\n",
      " [-3.94499604e+01 -2.04070645e+01]\n",
      " [-2.16128051e+02  5.69454404e+00]\n",
      " [-1.26398065e+02 -1.37406968e+01]\n",
      " [ 2.08981100e+02 -3.69668101e+01]\n",
      " [ 8.46998370e+01 -2.07887991e+01]\n",
      " [-6.64636458e+00 -1.37345372e+01]\n",
      " [ 7.66173643e+01 -1.93215425e+01]\n",
      " [ 3.40773823e+01 -1.97516606e+01]\n",
      " [ 8.07970702e+01  3.59033100e+01]\n",
      " [-1.86844468e+02 -1.29529081e+00]\n",
      " [-6.66565743e+01 -1.67789142e+01]\n",
      " [ 1.78005627e+01 -1.89927233e+01]\n",
      " [ 1.47183510e+02  3.99695640e+01]\n",
      " [-1.36179831e+02 -1.27765138e+01]\n",
      " [-8.22178374e+01  6.57652037e+00]\n",
      " [ 4.57665883e+01  4.54689062e+01]\n",
      " [-1.84940109e+01  3.01793562e+01]\n",
      " [-1.84291626e+01 -8.05588219e+00]\n",
      " [ 8.95849457e+01 -2.47721660e+01]\n",
      " [ 6.40843620e+01  3.66841069e+01]\n",
      " [-1.59466950e+02 -1.23138131e+01]\n",
      " [ 3.85788696e+01 -2.01020538e+01]\n",
      " [ 4.20242777e+01 -3.16650564e+01]\n",
      " [ 9.51273309e+01 -2.36329858e+01]\n",
      " [ 7.40911574e+01 -1.72066557e+01]\n",
      " [ 3.17665955e+00 -1.12692668e+01]\n",
      " [-9.22493726e+01  1.51777806e+01]\n",
      " [ 2.28201809e+01 -1.81795310e+01]\n",
      " [-1.42720929e+02  7.55175589e+00]\n",
      " [ 6.52197750e+01  3.78666166e+01]\n",
      " [-1.13469116e+02  2.88977741e+01]\n",
      " [ 1.15255480e+02 -3.70568971e+01]\n",
      " [-7.48487629e+01 -3.97345300e+00]\n",
      " [-9.78685149e+01  3.81363223e+00]\n",
      " [ 3.81443678e+01 -2.38233896e+01]\n",
      " [-1.99554063e+02 -8.28097374e-01]\n",
      " [-2.74179457e+01  2.87776069e+01]\n",
      " [ 2.34264053e+01  3.12675001e+01]\n",
      " [ 7.50418792e+01 -2.77865848e+01]\n",
      " [ 1.03830464e+02 -2.58995955e+01]\n",
      " [-1.88065297e+02  6.28551432e+00]\n",
      " [ 6.61353557e+01  3.60820437e+01]\n",
      " [ 1.09436113e+02  4.40670994e+01]\n",
      " [-8.39617213e+01 -8.12219423e+00]\n",
      " [-2.21612952e+01 -2.81698070e+00]\n",
      " [ 2.15054021e+01 -2.08072460e+01]\n",
      " [ 6.45791631e+01 -1.03327022e+01]\n",
      " [ 5.89796379e+01 -7.58710066e+00]\n",
      " [-8.93585820e+01 -2.25129229e+00]\n",
      " [ 9.32438834e+00  4.30993116e+01]\n",
      " [ 2.88176695e+01 -1.65470033e+01]\n",
      " [ 9.43944978e+01 -1.93044659e+01]\n",
      " [-1.58483442e+01 -1.89321180e+01]\n",
      " [ 1.76355124e+02  4.39927097e+01]\n",
      " [ 3.10189762e+00 -1.57258673e+01]\n",
      " [-7.34187005e+01 -1.00405743e+01]\n",
      " [ 1.94961948e+02 -3.25353796e+01]\n",
      " [ 4.18534282e+01 -2.34756331e+01]\n",
      " [ 5.34250065e+01 -9.61953389e+00]\n",
      " [-1.40231425e+02  5.90737677e+00]\n",
      " [-1.87260499e+02  5.52797751e+00]\n",
      " [-3.11564308e+01 -1.04783657e+01]\n",
      " [ 2.31942366e+01  2.75757232e+01]\n",
      " [ 2.37117900e+02 -2.89454771e+01]\n",
      " [ 1.83408863e+02 -2.63233409e+01]\n",
      " [-7.31524943e+01 -1.30960910e+01]\n",
      " [-1.24208705e+02 -1.14559493e+01]\n",
      " [-1.65963782e+02 -2.92298164e+00]\n",
      " [ 8.24150983e+01 -2.07441849e+01]\n",
      " [-5.39663677e+01  3.01133332e+01]\n",
      " [-1.33752093e+02 -5.98200019e-01]\n",
      " [ 3.36760617e+01  3.36625275e+01]\n",
      " [ 1.96234746e+02 -2.83231716e+01]\n",
      " [ 1.59596031e+02 -3.01234450e+01]\n",
      " [ 5.71624565e+01 -2.66246125e+01]\n",
      " [-1.13292176e+02 -2.14411045e+00]\n",
      " [-1.35944192e+02 -4.25032617e+00]\n",
      " [ 6.08399870e+01  3.67441458e+01]\n",
      " [-2.02194565e+01  2.76529681e+01]\n",
      " [ 1.44035649e+02  4.48164760e+01]\n",
      " [-1.63517599e+01 -1.35661935e+01]\n",
      " [-8.15756939e+01 -8.57835476e+00]\n",
      " [-2.13695008e+02  2.71262665e-02]\n",
      " [ 6.89434830e+01 -2.15393503e+01]\n",
      " [-1.35169815e+02 -1.09939804e+01]\n",
      " [ 9.24102224e+01 -1.42680114e+01]\n",
      " [ 9.92543728e+01 -2.30553447e+01]\n",
      " [ 9.01689904e+01  4.16781795e+01]\n",
      " [-9.86985607e+01  1.97377387e+01]\n",
      " [-1.81300568e+01 -6.16498091e+00]\n",
      " [ 8.96040268e+01  4.55460798e+01]\n",
      " [ 1.09743981e+02  4.39839834e+01]\n",
      " [ 3.02106026e+01 -1.75171661e+01]\n",
      " [-1.26155556e+01 -1.57528118e+01]\n",
      " [ 1.41725254e+01 -1.69114868e+01]\n",
      " [ 1.00433315e+02 -2.34243972e+01]\n",
      " [ 1.27288778e+02  4.28793210e+01]\n",
      " [-1.30924622e+02 -5.92762669e+00]\n",
      " [-4.46983428e+00  2.81997053e+01]\n",
      " [ 1.27912955e+02 -2.54323894e+01]\n",
      " [ 5.72396784e+01 -1.51269424e+01]\n",
      " [-6.03096817e+01  1.35563926e+01]\n",
      " [-1.38065894e+02  1.09747355e-01]\n",
      " [ 8.58582629e+01  3.68504724e+01]\n",
      " [-6.58321807e-01 -2.27718488e+01]\n",
      " [-6.68942717e+01  1.80536864e+01]\n",
      " [ 8.62889481e+00  2.96744636e+01]\n",
      " [ 9.99495667e+01 -1.74469234e+01]\n",
      " [ 6.24487912e+01 -1.98330674e+01]\n",
      " [ 1.33139683e+02 -2.60040062e+01]\n",
      " [-1.24625042e+02  2.50271448e+00]\n",
      " [-4.17925420e+01 -1.72830852e+01]\n",
      " [-1.15116521e+00 -2.40492858e+01]\n",
      " [-1.69651783e+01 -1.99627033e+01]\n",
      " [ 1.63503434e+01 -4.41527255e+00]\n",
      " [ 1.31090400e+02 -2.28676019e+01]\n",
      " [ 5.67770872e+01 -1.97243502e+01]\n",
      " [-2.59622442e+01  3.36984923e+01]\n",
      " [-2.60470244e+01 -1.37094313e+01]\n",
      " [ 1.81037319e+02 -3.40899043e+01]\n",
      " [ 3.88093823e+01 -1.52748629e+01]\n",
      " [-9.87538273e+01 -5.00013772e+00]\n",
      " [ 1.66587287e+02 -2.60576654e+01]\n",
      " [-1.31255405e+02  2.67079884e+00]\n",
      " [ 2.27213895e+01 -1.96062755e+01]\n",
      " [-1.26351501e+02 -9.73462453e+00]\n",
      " [-8.02294688e+01  1.92026814e+01]\n",
      " [ 4.37400377e+00 -1.33006045e+01]\n",
      " [-7.95240522e+01  8.01224622e+00]\n",
      " [-1.67753106e+02 -4.38183143e+00]\n",
      " [ 1.57655961e+02  3.83207070e+01]\n",
      " [-1.09542552e+01  2.59630436e+01]\n",
      " [-5.47082369e+00  2.59808084e+01]\n",
      " [ 3.02967657e+01 -2.12745110e+01]\n",
      " [-7.69288723e+01 -9.51494924e+00]\n",
      " [ 8.81657231e+01 -4.01136406e+00]\n",
      " [-7.44519258e+01  1.33348621e+01]\n",
      " [ 3.82811387e+01  2.80157981e+01]\n",
      " [ 1.13057241e+02  2.93570890e+01]\n",
      " [ 2.22878775e+01  4.17497101e+01]\n",
      " [ 8.33353653e+00 -1.36341519e+01]\n",
      " [ 8.41828451e+01  3.25891432e+01]\n",
      " [ 7.91071686e+01 -3.16221543e+01]\n",
      " [ 2.69246434e+01 -2.67186422e+01]\n",
      " [-7.37826618e+01 -9.60649018e+00]\n",
      " [ 8.34201865e+01  3.43378774e+01]\n",
      " [-4.21428561e+01  2.67619169e+01]\n",
      " [ 1.26889739e+02  4.94177878e+01]\n",
      " [ 2.93344723e+01  3.75613782e+01]\n",
      " [ 2.21881579e+01 -2.43432044e+01]\n",
      " [-6.90957379e+00  4.07356567e+01]\n",
      " [ 1.55321003e+02 -4.07395445e+01]\n",
      " [ 8.05261118e+01  4.33141983e+01]\n",
      " [ 1.54328469e+01  4.27452255e+01]\n",
      " [ 8.55094477e+01  4.63006053e+01]\n",
      " [-1.64037253e+02 -5.51775332e+00]\n",
      " [-1.85310134e+01  2.22498914e+01]\n",
      " [ 1.34102604e+02  4.65625986e+01]\n",
      " [ 1.64936905e+00  2.59648653e+01]\n",
      " [-8.80823531e+01 -2.09931706e+01]\n",
      " [ 7.34550972e+01 -1.47403016e+01]\n",
      " [-7.06511990e+01 -1.37142432e+01]\n",
      " [ 4.07508493e+01 -1.80251279e+01]\n",
      " [-3.07246819e+01  2.47150204e+01]\n",
      " [-4.72423056e+00  2.91331800e+01]\n",
      " [-6.20938287e+01 -1.07608942e+01]\n",
      " [-1.48172121e+02 -1.18652340e+01]\n",
      " [-8.55669197e+01 -1.61408542e+01]\n",
      " [ 1.40020804e+01  3.38851199e+01]\n",
      " [-1.77187184e+02 -5.95188963e+00]\n",
      " [-2.50919190e+01 -1.22786444e+01]\n",
      " [ 2.50646598e+01  2.95017631e+01]\n",
      " [ 3.95273730e+01 -1.80676402e+01]\n",
      " [-1.42207835e+02 -8.04411950e+00]\n",
      " [ 7.85894361e+00 -4.85321874e+01]\n",
      " [-4.65677962e+01 -2.14489950e+01]\n",
      " [ 1.14406179e+02  4.01410346e+01]\n",
      " [-4.87874109e+00  1.63644592e+01]\n",
      " [-1.94760966e+02 -3.39406835e+00]\n",
      " [ 4.83285645e+01 -1.99700922e+01]\n",
      " [-1.17270720e+02  2.25457586e+00]\n",
      " [-1.11927558e+02 -5.83747825e+00]\n",
      " [ 7.71449194e+00 -1.79675774e+01]\n",
      " [-1.31375381e+02 -1.92188825e+00]\n",
      " [-1.03856435e+02 -9.13983415e+00]\n",
      " [-5.11541789e+01 -9.25511554e+00]\n",
      " [ 6.87495168e+01 -4.65353619e+01]\n",
      " [ 4.71447051e+01 -1.29782756e+01]\n",
      " [-1.79400418e+02  3.15126858e+00]\n",
      " [-9.06252982e+00  2.34461583e+01]\n",
      " [-1.13641802e+01  2.62387537e+01]\n",
      " [ 8.14467056e+01 -1.82893322e+01]\n",
      " [ 6.46117432e+01  3.32831412e+01]\n",
      " [ 1.29044105e+02  4.91852913e+01]\n",
      " [-1.87273927e+02 -2.27637910e+00]\n",
      " [ 4.62515021e+01 -2.42389686e+01]\n",
      " [-5.56871332e+01  2.98279945e+01]\n",
      " [ 2.46246530e+01  3.28160666e+01]\n",
      " [-4.98413450e+01 -1.24181902e+01]\n",
      " [-6.60760258e+00 -9.31284276e+00]\n",
      " [-1.52319645e+01 -9.91478108e+00]\n",
      " [-6.12604851e+01 -2.42092956e+01]\n",
      " [-1.27470019e+02  2.73431610e+00]\n",
      " [-5.51163299e+01 -1.46961633e+01]\n",
      " [-1.03029500e+01  3.03132903e+01]\n",
      " [ 4.24158809e+01  2.90685246e+01]\n",
      " [ 1.06028918e+02 -2.27438347e+01]\n",
      " [ 4.26658298e+01 -2.40802671e+01]\n",
      " [ 7.83319844e+01  4.96640886e+01]\n",
      " [ 1.15603766e+02  4.56661049e+01]\n",
      " [-1.58242178e+02 -4.36322705e+00]\n",
      " [-2.95060977e+01 -1.68588476e+01]\n",
      " [-6.44000008e+01 -9.78129601e+00]\n",
      " [ 6.46688774e+01  3.49731774e+01]\n",
      " [-7.96676739e+01  3.05285638e+01]\n",
      " [ 2.87296556e+01 -2.21152233e+01]\n",
      " [ 4.99549895e+01  3.09249353e+01]\n",
      " [ 3.80640546e+01  3.64035364e+01]\n",
      " [ 4.37023351e+01  4.05465636e+01]\n",
      " [-1.62488469e+02  4.02843225e+00]\n",
      " [-5.64286662e+01  2.85209461e+01]\n",
      " [-1.00556722e+02 -9.89667803e+00]\n",
      " [-9.16424301e+00 -1.68028023e+01]\n",
      " [-1.18859563e+02 -3.04577584e+00]\n",
      " [-1.64947448e+02  3.90768084e+00]\n",
      " [ 1.67306048e+02 -3.98026085e+01]\n",
      " [-1.55085068e+02 -1.48445534e+01]\n",
      " [ 1.28327666e+02 -1.69022371e+01]\n",
      " [-1.17913608e+02 -7.39241870e+00]\n",
      " [ 2.27400310e+02 -2.78023315e+01]\n",
      " [ 8.16756675e+01 -1.42061003e+01]\n",
      " [ 1.05045918e+02 -1.72584861e+01]\n",
      " [-7.88763040e+01  1.23860631e+01]\n",
      " [ 1.19506301e+02 -1.53863290e+01]\n",
      " [ 5.65923205e-01 -9.45149833e+00]\n",
      " [-1.75269251e+02 -4.32437482e+00]\n",
      " [-1.57518453e+02 -5.76757159e+00]\n",
      " [-1.38772136e+02  5.66844834e+00]\n",
      " [-2.89855787e+01 -1.68124371e+01]\n",
      " [-1.20258399e+02 -2.45294567e+01]\n",
      " [ 1.42355808e+01  4.22145946e+01]\n",
      " [ 6.64561719e+01  4.39079692e+01]\n",
      " [ 1.04805687e+02  4.05153825e+01]\n",
      " [ 4.41944866e+01  3.53690887e+01]\n",
      " [ 2.92501441e+01 -2.61106891e+01]\n",
      " [ 1.98438781e+02 -2.25866882e+01]\n",
      " [-1.52636574e+00  2.84285995e+01]\n",
      " [ 8.01559991e+01 -3.37624819e+01]\n",
      " [ 1.07014799e+02  5.24371388e+01]\n",
      " [ 4.71671382e+01  3.78418116e+01]\n",
      " [ 5.14186033e-01 -1.84887431e+01]\n",
      " [ 6.13402333e+01  3.80372020e+01]\n",
      " [ 5.48623751e+01 -1.13239124e+01]\n",
      " [ 7.56632573e+00 -1.89501756e+01]\n",
      " [-1.84441833e+02 -3.15406752e+00]\n",
      " [-3.26146071e+00 -1.22482811e+01]\n",
      " [-1.51931787e+02 -7.83821184e+00]\n",
      " [-1.30472905e+02 -7.66795078e+00]\n",
      " [ 1.02715928e+02 -1.61947982e+01]\n",
      " [-6.35837758e-02  2.11045353e+01]\n",
      " [-1.57760190e+02 -4.23516796e+00]\n",
      " [ 5.66846118e+01 -2.52614870e+01]\n",
      " [ 1.37515071e+02 -3.78357273e+01]\n",
      " [ 1.93800463e+01 -1.57539102e+01]\n",
      " [-8.70718922e+01  1.94872132e-01]\n",
      " [ 7.44068733e+00 -2.72180308e+01]\n",
      " [ 6.48932911e+01  3.77141879e+01]\n",
      " [ 5.16168725e+01 -1.44818408e+01]\n",
      " [-1.75802491e+02  2.79068877e+00]\n",
      " [-3.85014469e+00 -1.29901627e+01]\n",
      " [ 2.15851510e+01 -2.07393600e+01]\n",
      " [ 7.24383152e+01 -2.00077965e+01]\n",
      " [-7.47286989e+01  7.69445693e+00]\n",
      " [-1.81747888e+02  4.50913131e+00]\n",
      " [-8.48202272e+00 -1.72019199e+01]\n",
      " [-7.45166452e+00  2.22101733e+01]\n",
      " [ 1.24969650e+02 -1.56701211e+01]\n",
      " [-2.03692658e+01 -1.78535369e+01]\n",
      " [ 2.60110535e+02 -2.95382049e+01]\n",
      " [-1.50362927e+02  1.99433281e+00]\n",
      " [-1.10744977e+02  1.16592756e+01]\n",
      " [ 3.31712054e+01 -2.97154960e+01]\n",
      " [ 3.64692527e+01  2.35797207e+01]\n",
      " [ 3.03808478e+01  3.49147176e+01]\n",
      " [-8.60309121e+01 -1.15045810e+01]\n",
      " [ 6.55344148e+01 -2.55782269e+01]\n",
      " [ 3.98521176e+01  1.33326038e+01]\n",
      " [ 8.32161154e+01  4.30734520e+01]\n",
      " [-1.68630589e+01 -2.11542603e+01]\n",
      " [-9.83249369e+01 -9.78421969e+00]\n",
      " [-6.49720215e+01 -1.27197794e+01]\n",
      " [ 8.42932155e+01 -1.69039361e+01]\n",
      " [ 8.68228886e+01  2.40313917e+01]\n",
      " [ 1.16030394e+02  4.02394190e+01]\n",
      " [-3.42740572e+00  2.67084100e+01]\n",
      " [-1.78024322e+02 -3.33077892e+00]\n",
      " [-4.68123030e+01 -3.46338454e+01]\n",
      " [ 1.64422127e+02 -2.78124106e+01]\n",
      " [ 1.11917320e+02  3.82947125e+01]\n",
      " [ 1.45298940e+02  5.26443575e+01]\n",
      " [-1.03487613e+02 -6.21135882e+00]\n",
      " [ 6.27450528e+01  4.60589539e+01]\n",
      " [-4.61201687e+00 -1.91406992e+01]\n",
      " [ 3.06810822e+01  3.25290544e+01]\n",
      " [-1.60715211e+02 -9.55872974e+00]\n",
      " [-1.17930562e+02 -2.99002714e+00]\n",
      " [ 8.74521602e+01 -2.31404553e+01]\n",
      " [ 4.64023689e+01 -1.51170242e+01]\n",
      " [ 1.19832369e+02  5.29233480e+01]\n",
      " [ 8.29657402e+01 -2.26105478e+01]\n",
      " [-1.24222932e+02 -1.43383453e+01]\n",
      " [ 1.74510717e+02 -3.50785779e+01]\n",
      " [-1.70565813e+02  1.10360507e+00]\n",
      " [ 2.26421325e+01  4.29037790e+01]\n",
      " [-4.77679289e+01  2.05808223e+01]\n",
      " [ 8.11152812e+01 -3.87805415e+01]\n",
      " [-3.15203689e+01 -1.35008825e+01]\n",
      " [-1.39807612e+00 -1.57819309e+01]\n",
      " [-2.73350478e+01 -1.95915210e+01]\n",
      " [ 2.73687913e+01  2.90981372e+01]\n",
      " [-1.46554960e+02  4.53011346e+00]\n",
      " [ 9.42821932e+01 -2.47926385e+01]\n",
      " [ 2.21894469e+00 -2.36114102e+01]\n",
      " [ 1.63195884e+02  4.90830800e+01]\n",
      " [-7.05801720e+01 -8.88071269e+00]\n",
      " [ 6.04367304e+01  3.79718658e+01]\n",
      " [-8.87179456e+01 -4.94415028e+00]\n",
      " [-1.70494473e+02  1.43379586e+00]\n",
      " [-1.38303307e+02  4.51530543e+00]\n",
      " [ 8.59105014e+01 -3.05068467e+01]\n",
      " [ 1.40943645e+02 -3.26184179e+01]\n",
      " [-2.18805347e+00 -1.15065959e+01]\n",
      " [ 1.14293928e+02 -2.07818590e+01]\n",
      " [-4.84348886e+00  2.81462581e+01]\n",
      " [ 1.59865629e+02  4.27243106e+01]\n",
      " [-1.01453000e+02  1.51789384e+01]\n",
      " [-1.14588856e+02 -2.25914531e+00]\n",
      " [-1.29489510e+02  8.85100997e+00]\n",
      " [ 1.52684126e+02  4.43457461e+01]\n",
      " [ 9.62559611e+01  4.91028573e+01]\n",
      " [-9.52497521e+01  2.68697321e+00]\n",
      " [ 4.16523719e+01 -1.25032341e+01]\n",
      " [ 5.05954194e+01 -1.86596090e+01]\n",
      " [-1.26646488e+02 -1.47049053e+01]\n",
      " [ 5.38134158e+01 -1.99404777e+01]\n",
      " [ 5.87119427e+01  4.49385295e+01]\n",
      " [-8.08970305e+01  1.26744560e+01]\n",
      " [-1.07588463e+02 -1.76691355e+00]\n",
      " [ 5.87552734e+01 -1.29237061e+01]\n",
      " [-5.00465643e+01 -1.47799162e+01]\n",
      " [-3.95647878e+01 -2.46592729e+01]\n",
      " [-1.46256161e+02  7.32767200e+00]\n",
      " [ 1.60989896e+02 -3.01203246e+01]\n",
      " [ 4.06078640e+01 -2.68873997e+01]\n",
      " [-1.15636346e+00 -1.39052989e+01]\n",
      " [ 6.75265952e+01  3.79752112e+01]\n",
      " [-1.10818717e+02 -1.26861766e+01]\n",
      " [-1.59440997e+02 -7.90814324e+00]\n",
      " [ 1.11784229e+02 -2.20443954e+01]\n",
      " [ 3.16439282e+01  3.34389382e+01]\n",
      " [ 6.25379370e+01  3.88984681e+01]\n",
      " [ 2.67557689e+01  4.17129631e+01]\n",
      " [ 2.87885015e+00 -1.43463725e+01]\n",
      " [ 9.83044311e+01 -2.05654260e+01]\n",
      " [ 1.66776535e+02 -1.91152253e+01]\n",
      " [-1.31694421e+02  4.13761960e+00]\n",
      " [ 2.50791337e+01  3.13463775e+01]\n",
      " [ 5.98393675e+01  3.98998954e+01]\n",
      " [ 1.53894201e+02 -2.95446484e+01]\n",
      " [-1.05438013e+02 -3.03006986e+00]\n",
      " [-1.28562722e+02 -1.09184419e+01]\n",
      " [ 4.79334236e+01  4.63498592e+01]\n",
      " [ 1.07488857e+01 -1.69021388e+01]\n",
      " [ 1.09156081e+02 -2.10148903e+01]\n",
      " [ 3.49372184e+01 -2.58003756e+01]\n",
      " [-1.67403592e+02 -2.58050070e+00]\n",
      " [ 5.36729134e+01 -1.64439109e+01]\n",
      " [ 1.83179104e+02 -2.27330417e+01]\n",
      " [ 6.58625677e+01  4.30705928e+01]\n",
      " [ 2.70302501e+01  3.52997571e+01]\n",
      " [-1.09636906e+02 -3.05880243e+00]\n",
      " [ 5.07559657e+01 -3.17140506e+01]\n",
      " [ 1.89277784e+01 -2.45315533e+01]\n",
      " [-2.63129700e+01  5.09161040e+00]\n",
      " [ 4.24979460e+01  3.60393734e+01]\n",
      " [ 4.13389710e+01 -2.66320624e+01]\n",
      " [-9.46577682e+01 -1.63855831e+01]\n",
      " [-2.85657473e+01 -2.46856250e+01]\n",
      " [ 7.33496879e+01  3.17272921e+01]\n",
      " [ 8.04214521e+01 -2.38509517e+01]\n",
      " [-5.39254575e+01 -9.47540387e+00]\n",
      " [ 1.40924992e+02 -2.04091006e+01]\n",
      " [-1.89479858e+01  2.61193263e+01]\n",
      " [ 2.21742488e+01  2.96191683e+01]\n",
      " [ 1.60683284e+02 -1.92613896e+01]\n",
      " [-1.11107482e+02  1.81480456e+01]\n",
      " [ 4.21103220e+01  2.21035461e+01]\n",
      " [-7.35698460e+01  1.62749241e+01]\n",
      " [ 4.82179679e+01 -1.42711415e+01]\n",
      " [ 1.50410522e+02 -2.19874749e+01]\n",
      " [-8.76145425e+01 -1.02903392e+01]\n",
      " [ 1.12801564e+02 -2.36979441e+01]\n",
      " [ 1.05285384e+02 -2.87659665e+01]\n",
      " [ 5.53307317e+01  4.83629591e+01]\n",
      " [-1.35360354e+02 -1.02309798e+01]\n",
      " [ 8.82138875e+01  4.18564083e+01]\n",
      " [ 1.12918210e+02 -3.58795008e+01]\n",
      " [-1.63042908e+02  7.37298644e+00]\n",
      " [-6.89949881e+01 -1.08816076e+01]\n",
      " [ 4.87583748e+01  3.89707853e+01]\n",
      " [ 5.20393591e+01 -1.71319721e+01]\n",
      " [ 3.60252989e+01  3.35511226e+01]\n",
      " [ 8.91556447e+00 -1.12963899e+01]\n",
      " [ 2.18036061e+02 -2.97536612e+01]\n",
      " [ 1.52010940e+02 -2.45584610e+01]\n",
      " [ 1.18908793e+02 -2.52402755e+01]\n",
      " [-2.15252223e+02  7.48392652e-02]\n",
      " [-1.11227293e+02 -2.61293240e+01]\n",
      " [ 6.51475714e+01 -2.23285805e+01]\n",
      " [-5.30412958e+01 -7.96245246e+00]\n",
      " [-1.27204954e+02  1.34300320e+01]\n",
      " [ 2.42225985e+00 -2.27331676e+01]\n",
      " [ 7.80085283e+01 -1.82464745e+01]\n",
      " [ 2.69019570e+01 -1.99948808e+00]\n",
      " [-2.70240974e+00 -2.30081948e+01]\n",
      " [ 6.06039274e+01 -2.08083672e+01]\n",
      " [-1.79927394e+02  3.85104038e+00]\n",
      " [-1.59331099e+02  5.84178224e-01]\n",
      " [ 1.49252953e+02 -2.48022319e+01]\n",
      " [ 2.29460907e+01 -1.93025881e+01]\n"
     ]
    },
    {
     "name": "stdout",
     "output_type": "stream",
     "text": [
      " [ 3.69760823e+01 -1.53408964e+01]]\n"
     ]
    }
   ],
   "source": [
    "print(pcasfm)"
   ]
  },
  {
   "cell_type": "markdown",
   "metadata": {},
   "source": [
    "# Splitting Data"
   ]
  },
  {
   "cell_type": "markdown",
   "metadata": {},
   "source": [
    "Run when using Images Data"
   ]
  },
  {
   "cell_type": "code",
   "execution_count": 360,
   "metadata": {},
   "outputs": [
    {
     "data": {
      "text/plain": [
       "0    202\n",
       "1    147\n",
       "Name: labels, dtype: int64"
      ]
     },
     "execution_count": 360,
     "metadata": {},
     "output_type": "execute_result"
    }
   ],
   "source": [
    "#Splitting from Images data\n",
    "X = pd.DataFrame(pcasfm) #Features\n",
    "y = pd.Series(data2.labels) #Labels\n",
    "X_train, X_test, y_train, y_test = train_test_split(X,\n",
    "                                                    y,\n",
    "                                                    test_size=0.3,\n",
    "                                                    random_state=123321)\n",
    "\n",
    "# distrubution of labels in the train set\n",
    "pd.Series(y_train).value_counts()"
   ]
  },
  {
   "cell_type": "markdown",
   "metadata": {},
   "source": [
    "Run when using Features CSV Only"
   ]
  },
  {
   "cell_type": "code",
   "execution_count": null,
   "metadata": {},
   "outputs": [],
   "source": [
    "#Splitting from csv data\n",
    "X = pd.DataFrame(pcasfm) #Features\n",
    "y = pd.Series(data.labels) #Labels\n",
    "X_train, X_test, y_train, y_test = train_test_split(X,\n",
    "                                                    y,\n",
    "                                                    test_size=0.3,\n",
    "                                                    random_state=123321)\n",
    "\n",
    "# distrubution of labels in the train set\n",
    "pd.Series(y_train).value_counts()"
   ]
  },
  {
   "cell_type": "markdown",
   "metadata": {},
   "source": [
    "\n",
    "# Code Below uses same naming convention for BOTH datasets"
   ]
  },
  {
   "cell_type": "code",
   "execution_count": 417,
   "metadata": {},
   "outputs": [],
   "source": [
    "#Converting everything to numppyy array\n",
    "NPTRAINX = np.array(X_train)\n",
    "NPTRAINY = np.array(y_train)\n",
    "NPTestX = np.array(X_test)\n",
    "NPTestY = np.array(y_test)\n",
    "NPX = np.array(X)\n",
    "NPY = np.array(y)\n"
   ]
  },
  {
   "cell_type": "code",
   "execution_count": 418,
   "metadata": {},
   "outputs": [
    {
     "data": {
      "text/plain": [
       "(349, 2)"
      ]
     },
     "execution_count": 418,
     "metadata": {},
     "output_type": "execute_result"
    }
   ],
   "source": [
    "NPTRAINX.shape"
   ]
  },
  {
   "cell_type": "code",
   "execution_count": 419,
   "metadata": {},
   "outputs": [
    {
     "data": {
      "text/plain": [
       "(349,)"
      ]
     },
     "execution_count": 419,
     "metadata": {},
     "output_type": "execute_result"
    }
   ],
   "source": [
    "NPTRAINY.shape"
   ]
  },
  {
   "cell_type": "code",
   "execution_count": 420,
   "metadata": {},
   "outputs": [
    {
     "data": {
      "text/plain": [
       "(150, 2)"
      ]
     },
     "execution_count": 420,
     "metadata": {},
     "output_type": "execute_result"
    }
   ],
   "source": [
    "NPTestX.shape"
   ]
  },
  {
   "cell_type": "code",
   "execution_count": 421,
   "metadata": {},
   "outputs": [
    {
     "data": {
      "text/plain": [
       "(150,)"
      ]
     },
     "execution_count": 421,
     "metadata": {},
     "output_type": "execute_result"
    }
   ],
   "source": [
    "NPTestY.shape"
   ]
  },
  {
   "cell_type": "code",
   "execution_count": 422,
   "metadata": {},
   "outputs": [
    {
     "data": {
      "text/plain": [
       "(499, 2)"
      ]
     },
     "execution_count": 422,
     "metadata": {},
     "output_type": "execute_result"
    }
   ],
   "source": [
    "NPX.shape"
   ]
  },
  {
   "cell_type": "code",
   "execution_count": 423,
   "metadata": {},
   "outputs": [
    {
     "data": {
      "text/plain": [
       "(499,)"
      ]
     },
     "execution_count": 423,
     "metadata": {},
     "output_type": "execute_result"
    }
   ],
   "source": [
    "NPY.shape"
   ]
  },
  {
   "cell_type": "markdown",
   "metadata": {},
   "source": [
    "# SVM Model"
   ]
  },
  {
   "cell_type": "code",
   "execution_count": 424,
   "metadata": {},
   "outputs": [],
   "source": [
    "def train_svm(NPTRAINX, NPTRAINY, epochs=200):\n",
    "    #Initialize SVM weight zeros \n",
    "    w = np.zeros(len(NPTRAINX[0]))\n",
    "\n",
    "    # The learning rate Alpha\n",
    "    learning_rate = 0.1\n",
    "    \n",
    "    w0_per_epoch = []\n",
    "    w1_per_epoch = []\n",
    "    \n",
    "    # Training Phase\n",
    "    print(\"Training Started!!\")\n",
    "    for epoch in tqdm(range(1, epochs)):\n",
    "        error = 0\n",
    "        for i, x in enumerate(NPTRAINX):\n",
    "            if (NPTRAINY[i] * np.dot(NPTRAINX[i], w)) < 1:\n",
    "                w = w + learning_rate * ((NPTRAINY[i] * NPTRAINX[i]) - (2 * (1/epochs) * w))\n",
    "            else:\n",
    "                w = w + learning_rate * (-2 * (1/epochs) * w)\n",
    "                \n",
    "        w0_per_epoch.append(w[0])\n",
    "        w1_per_epoch.append(w[1])\n",
    "    \n",
    "    return w, w0_per_epoch, w1_per_epoch"
   ]
  },
  {
   "cell_type": "code",
   "execution_count": 425,
   "metadata": {},
   "outputs": [
    {
     "name": "stdout",
     "output_type": "stream",
     "text": [
      "Training Started!!\n"
     ]
    },
    {
     "data": {
      "application/vnd.jupyter.widget-view+json": {
       "model_id": "6dfa8ac78bce4e1f9ebfe03580b9182a",
       "version_major": 2,
       "version_minor": 0
      },
      "text/html": [
       "<p>Failed to display Jupyter Widget of type <code>HBox</code>.</p>\n",
       "<p>\n",
       "  If you're reading this message in the Jupyter Notebook or JupyterLab Notebook, it may mean\n",
       "  that the widgets JavaScript is still loading. If this message persists, it\n",
       "  likely means that the widgets JavaScript library is either not installed or\n",
       "  not enabled. See the <a href=\"https://ipywidgets.readthedocs.io/en/stable/user_install.html\">Jupyter\n",
       "  Widgets Documentation</a> for setup instructions.\n",
       "</p>\n",
       "<p>\n",
       "  If you're reading this message in another frontend (for example, a static\n",
       "  rendering on GitHub or <a href=\"https://nbviewer.jupyter.org/\">NBViewer</a>),\n",
       "  it may mean that your frontend doesn't currently support widgets.\n",
       "</p>\n"
      ],
      "text/plain": [
       "HBox(children=(IntProgress(value=0, max=199), HTML(value='')))"
      ]
     },
     "metadata": {},
     "output_type": "display_data"
    },
    {
     "name": "stdout",
     "output_type": "stream",
     "text": [
      "\n",
      "[10.93183062 -2.86549493]\n"
     ]
    }
   ],
   "source": [
    "w, w0array, w1array = train_svm(NPTRAINX, NPTRAINY, epochs=200)\n",
    "print(w)"
   ]
  },
  {
   "cell_type": "code",
   "execution_count": 426,
   "metadata": {},
   "outputs": [
    {
     "data": {
      "text/plain": [
       "[<matplotlib.lines.Line2D at 0x1e982f7ff28>,\n",
       " <matplotlib.lines.Line2D at 0x1e982f880b8>]"
      ]
     },
     "execution_count": 426,
     "metadata": {},
     "output_type": "execute_result"
    },
    {
     "data": {
      "image/png": "[encoded data removed]",
      "text/plain": [
       "<matplotlib.figure.Figure at 0x1e982d76c50>"
      ]
     },
     "metadata": {},
     "output_type": "display_data"
    }
   ],
   "source": [
    "epochs = len(w0array)\n",
    "\n",
    "weights_to_graph = 100\n",
    "\n",
    "num_per_epoch = epochs/weights_to_graph\n",
    "\n",
    "w0_to_graph = []\n",
    "w1_to_graph = []\n",
    "epoch_to_graph = []\n",
    "\n",
    "for i in range(weights_to_graph):\n",
    "    epoch_to_graph.append(int(num_per_epoch*i))\n",
    "    w0_to_graph.append(w0array[int(num_per_epoch*i)])\n",
    "    w1_to_graph.append(w1array[int(num_per_epoch*i)])\n",
    "    \n",
    "plt.plot(epoch_to_graph, w0_to_graph, 'r',epoch_to_graph, w1_to_graph,'b')"
   ]
  },
  {
   "cell_type": "markdown",
   "metadata": {},
   "source": [
    "# Scatter Plot"
   ]
  },
  {
   "cell_type": "code",
   "execution_count": 427,
   "metadata": {
    "scrolled": true
   },
   "outputs": [
    {
     "data": {
      "application/vnd.jupyter.widget-view+json": {
       "model_id": "23737fa1fd1a41e69aa9b5142b14f6dd",
       "version_major": 2,
       "version_minor": 0
      },
      "text/html": [
       "<p>Failed to display Jupyter Widget of type <code>HBox</code>.</p>\n",
       "<p>\n",
       "  If you're reading this message in the Jupyter Notebook or JupyterLab Notebook, it may mean\n",
       "  that the widgets JavaScript is still loading. If this message persists, it\n",
       "  likely means that the widgets JavaScript library is either not installed or\n",
       "  not enabled. See the <a href=\"https://ipywidgets.readthedocs.io/en/stable/user_install.html\">Jupyter\n",
       "  Widgets Documentation</a> for setup instructions.\n",
       "</p>\n",
       "<p>\n",
       "  If you're reading this message in another frontend (for example, a static\n",
       "  rendering on GitHub or <a href=\"https://nbviewer.jupyter.org/\">NBViewer</a>),\n",
       "  it may mean that your frontend doesn't currently support widgets.\n",
       "</p>\n"
      ],
      "text/plain": [
       "HBox(children=(IntProgress(value=0, max=150), HTML(value='')))"
      ]
     },
     "metadata": {},
     "output_type": "display_data"
    },
    {
     "name": "stdout",
     "output_type": "stream",
     "text": [
      "\n"
     ]
    },
    {
     "data": {
      "text/plain": [
       "<matplotlib.quiver.Quiver at 0x1e9f6891710>"
      ]
     },
     "execution_count": 427,
     "metadata": {},
     "output_type": "execute_result"
    },
    {
     "data": {
      "image/png": "[encoded data removed]",
      "text/plain": [
       "<matplotlib.figure.Figure at 0x1e982f88898>"
      ]
     },
     "metadata": {},
     "output_type": "display_data"
    }
   ],
   "source": [
    "# for each point if Label is '1' then '_'  and if '0' then '+' \n",
    "for i in tqdm(range(len(NPTestX))):\n",
    "    if NPTestY[i] == 1:\n",
    "        plt.scatter(NPTestX[i][0], NPTestX[i][1], s=50, marker='_', linewidths=2)\n",
    "    else:\n",
    "        plt.scatter(NPTestX[i][0], NPTestX[i][1], s=50, marker='+', linewidths=2)\n",
    "        \n",
    "# Print the hyperplane\n",
    "x2=[w[0]*0.2,w[1],-w[1],w[0]]\n",
    "x3=[w[0]*0.2,w[1],w[1],-w[0]]\n",
    "\n",
    "x2x3 =np.array([x2,x3])\n",
    "NPTestX,NPTestY,U,V = zip(*x2x3)\n",
    "ax = plt.gca()\n",
    "ax.quiver(NPTestX,NPTestY,U,V,scale=4, color='blue')"
   ]
  },
  {
   "cell_type": "markdown",
   "metadata": {},
   "source": [
    "# Done"
   ]
  }
 ],
 "metadata": {
  "kernelspec": {
   "display_name": "Python 3",
   "language": "python",
   "name": "python3"
  },
  "language_info": {
   "codemirror_mode": {
    "name": "ipython",
    "version": 3
   },
   "file_extension": ".py",
   "mimetype": "text/x-python",
   "name": "python",
   "nbconvert_exporter": "python",
   "pygments_lexer": "ipython3",
   "version": "3.6.4"
  }
 },
 "nbformat": 4,
 "nbformat_minor": 2
}
