{
  "nbformat": 4,
  "nbformat_minor": 0,
  "metadata": {
    "colab": {
      "name": "Perceptron.ipynb",
      "provenance": [],
      "collapsed_sections": [],
      "machine_shape": "hm",
      "include_colab_link": true
    },
    "kernelspec": {
      "name": "python3",
      "display_name": "Python 3"
    },
    "accelerator": "GPU"
  },
  "cells": [
    {
      "cell_type": "markdown",
      "metadata": {
        "id": "view-in-github",
        "colab_type": "text"
      },
      "source": [
        "<a href=\"https://colab.research.google.com/github/zeinabmohamed/HistopathologicCancerDetection/blob/master/apply_Perceptron_algorithm_final_submission.ipynb\" target=\"_parent\"><img src=\"https://colab.research.google.com/assets/colab-badge.svg\" alt=\"Open In Colab\"/></a>"
      ]
    },
    {
      "cell_type": "markdown",
      "metadata": {
        "id": "XcRrWZ8aYvzw",
        "colab_type": "text"
      },
      "source": [
        "Mount Google Drive"
      ]
    },
    {
      "cell_type": "markdown",
      "metadata": {
        "id": "T5An6DvfYbrF",
        "colab_type": "text"
      },
      "source": [
        "List all My drive sub dir's\n"
      ]
    },
    {
      "cell_type": "code",
      "metadata": {
        "id": "hQuNoOH8M1jR",
        "colab_type": "code",
        "outputId": "749df81f-ece2-4197-c314-f1bc272065b8",
        "colab": {
          "base_uri": "https://localhost:8080/",
          "height": 34
        }
      },
      "source": [
        "from google.colab import drive\n",
        "drive.mount('/content/drive')"
      ],
      "execution_count": 0,
      "outputs": [
        {
          "output_type": "stream",
          "text": [
            "Drive already mounted at /content/drive; to attempt to forcibly remount, call drive.mount(\"/content/drive\", force_remount=True).\n"
          ],
          "name": "stdout"
        }
      ]
    },
    {
      "cell_type": "code",
      "metadata": {
        "id": "g_pkSk0hYhY2",
        "colab_type": "code",
        "colab": {}
      },
      "source": [
        "import os\n",
        "import numpy as np\n",
        "import imageio\n",
        "import matplotlib.pylab as plt\n",
        "import sklearn.metrics as sm\n",
        "import seaborn as sb\n",
        "import pandas"
      ],
      "execution_count": 0,
      "outputs": []
    },
    {
      "cell_type": "markdown",
      "metadata": {
        "id": "FZwT_OG05AQZ",
        "colab_type": "text"
      },
      "source": [
        "Prepare Features and labels"
      ]
    },
    {
      "cell_type": "code",
      "metadata": {
        "id": "TeNPO1aFywcg",
        "colab_type": "code",
        "colab": {}
      },
      "source": [
        " # x:   train_matrix\n",
        " # y:   train_label_matrix\n",
        " # W:   Weight\n",
        " # l_r: learning rate\n",
        " # Iterations: number of Iterations\n",
        "\n",
        "train_matrix = pandas.read_csv(\"drive/My Drive/histopathologic-cancer-detection/train_6000.csv\", header=None, index_col = False)\n",
        "Y = train_matrix.iloc[0:4800,0]#Get only y Lables\n",
        "y = np.array(Y)\n",
        "X = train_matrix.iloc[0:4800,1:3073]#Get only input Features\n",
        "X = np.hstack((X,np.ones((len(X),1))))#Add Ones as Bias to features\n",
        "W = np.zeros((3073))# Initiate weight for your input features\n"
      ],
      "execution_count": 0,
      "outputs": []
    },
    {
      "cell_type": "markdown",
      "metadata": {
        "id": "TB4TBq45YvQz",
        "colab_type": "text"
      },
      "source": [
        "Training Module"
      ]
    },
    {
      "cell_type": "code",
      "metadata": {
        "id": "PnnWDI3NYi92",
        "colab_type": "code",
        "colab": {}
      },
      "source": [
        "#Implement Unit Step Activation Function\n",
        "def ActivationFunc(X,W):\n",
        "  z = np.dot(X, W)\n",
        "  y_pred = np.zeros((len(X)))\n",
        "  counter = 0\n",
        "  for i in z:\n",
        "    \n",
        "    if i >= 0:\n",
        "      y_pred[counter] = 1\n",
        "    else:\n",
        "      y_pred[counter] = 0\n",
        "    counter += 1\n",
        "\n",
        "  return y_pred\n",
        "\n",
        "#Implement Cost(Error) Function \n",
        "def Error(X,W):\n",
        "  e = y-ActivationFunc(X,W)\n",
        "  E = e**2\n",
        "  SSE = np.sum(E)\n",
        "  return SSE\n",
        "\n",
        "#Implement Gradient Descent Function\n",
        "def gradient_descent(X,y,W,L_R,Iterations):\n",
        "  Errors = np.zeros((Iterations,1))\n",
        "    \n",
        "  for i in range(Iterations): \n",
        "    W += L_R*np.dot(X.T,(y-ActivationFunc(X,W)))\n",
        "    Errors[i] =  Error(X,W)\n",
        "  return (Errors,W)"
      ],
      "execution_count": 0,
      "outputs": []
    },
    {
      "cell_type": "code",
      "metadata": {
        "id": "1eR-F3gi240q",
        "colab_type": "code",
        "outputId": "95a7f90d-c411-4798-cfc4-67ae026ff2f5",
        "colab": {
          "base_uri": "https://localhost:8080/",
          "height": 330
        }
      },
      "source": [
        "#Initiate Training Module\n",
        "Iterations = 4000\n",
        "L_R = 0.1\n",
        "(Errors,W) = gradient_descent(X,y,W,L_R,Iterations)\n",
        "print(\"Optimum Weights=\", W, \"\\n\")\n",
        "\n",
        "#Plot Cost Function Graph\n",
        "plt.figure()\n",
        "sb.set_style('white')\n",
        "plt.plot(range(len(Errors)), Errors, 'r')\n",
        "plt.title(\"Convergence Graph of Cost Function\")\n",
        "plt.xlabel(\"Number of Iterations\")\n",
        "plt.ylabel(\"Cost\")\n",
        "plt.show()"
      ],
      "execution_count": 0,
      "outputs": [
        {
          "output_type": "stream",
          "text": [
            "Optimum Weights= [ -12794.4  310136.6  189100.4 ... -263596.8 -118967.7  -29450.5] \n",
            "\n"
          ],
          "name": "stdout"
        },
        {
          "output_type": "display_data",
          "data": {
            "image/png": "[encoded data removed]",
            "text/plain": [
              "<Figure size 432x288 with 1 Axes>"
            ]
          },
          "metadata": {
            "tags": []
          }
        }
      ]
    },
    {
      "cell_type": "markdown",
      "metadata": {
        "id": "MqgLvKoegPhw",
        "colab_type": "text"
      },
      "source": [
        "Testing Module"
      ]
    },
    {
      "cell_type": "code",
      "metadata": {
        "id": "God_eJQrjEh0",
        "colab_type": "code",
        "outputId": "c1e17ba8-5237-4b83-917c-873c46311bc0",
        "colab": {
          "base_uri": "https://localhost:8080/",
          "height": 330
        }
      },
      "source": [
        "Y = train_matrix.iloc[4800:6000,0]\n",
        "Test_Labels = np.array(Y)\n",
        "X = train_matrix.iloc[4800:6000,1:3073]\n",
        "X = np.hstack((X,np.ones((len(X),1))))\n",
        "\n",
        "# Predict New amples\n",
        "def predict(X,W):\n",
        "    return ActivationFunc(X,W)\n",
        "pred_labels = predict(X,W)\n",
        "\n",
        "#Calculate Accuracy \n",
        "acc = sm.accuracy_score(pred_labels,Test_Labels)\n",
        "print('Accuraccy='+str(acc*100)+'%')\n",
        "\n",
        "#Plot Confusion Matrix \n",
        "cm = sm.confusion_matrix(pred_labels,Test_Labels)\n",
        "sb.heatmap(cm, cmap=\"Blues\", annot=True,fmt=\"d\")\n",
        "plt.title('Confusion Matrix')\n",
        "plt.ylabel('Test_Labels')\n",
        "plt.xlabel('Predicated Label')"
      ],
      "execution_count": 0,
      "outputs": [
        {
          "output_type": "stream",
          "text": [
            "Accuraccy=61.5%\n"
          ],
          "name": "stdout"
        },
        {
          "output_type": "execute_result",
          "data": {
            "text/plain": [
              "Text(0.5, 15.0, 'Predicated Label')"
            ]
          },
          "metadata": {
            "tags": []
          },
          "execution_count": 214
        },
        {
          "output_type": "display_data",
          "data": {
            "image/png": "[encoded data removed]",
            "text/plain": [
              "<Figure size 432x288 with 2 Axes>"
            ]
          },
          "metadata": {
            "tags": []
          }
        }
      ]
    }
  ]
}