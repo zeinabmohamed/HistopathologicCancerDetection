{
  "nbformat": 4,
  "nbformat_minor": 0,
  "metadata": {
    "colab": {
      "name": "fisher_model.ipynb",
      "provenance": [],
      "private_outputs": true,
      "include_colab_link": true
    },
    "kernelspec": {
      "name": "python3",
      "display_name": "Python 3"
    }
  },
  "cells": [
    {
      "cell_type": "markdown",
      "metadata": {
        "id": "view-in-github",
        "colab_type": "text"
      },
      "source": [
        "<a href=\"https://colab.research.google.com/github/zeinabmohamed/HistopathologicCancerDetection/blob/master/apply_fisher_algorithm_final_submission.ipynb\" target=\"_parent\"><img src=\"https://colab.research.google.com/assets/colab-badge.svg\" alt=\"Open In Colab\"/></a>"
      ]
    },
    {
      "cell_type": "markdown",
      "metadata": {
        "id": "ABaSd3kejNZ2",
        "colab_type": "text"
      },
      "source": [
        "Step 1 : Adding required imports : "
      ]
    },
    {
      "cell_type": "code",
      "metadata": {
        "id": "FibkbVaYikrP",
        "colab_type": "code",
        "colab": {}
      },
      "source": [
        "#!/usr/bin/env python3\n",
        "# -*- coding: utf-8 -*-\n",
        "\"\"\"\n",
        "Created on Sun Dec 29 20:51:00 2019\n",
        "@author: minamounir\n",
        "\"\"\"\n",
        "import numpy as np\n",
        "import os\n",
        "import imageio\n",
        "import matplotlib.pylab as plt\n",
        "import copy \n",
        "import pandas as pd\n",
        "import sys\n",
        "from numpy import genfromtxt"
      ],
      "execution_count": 0,
      "outputs": []
    },
    {
      "cell_type": "markdown",
      "metadata": {
        "id": "ZhHXYm2mkN8k",
        "colab_type": "text"
      },
      "source": [
        "Step 2 : Amount the Google drive "
      ]
    },
    {
      "cell_type": "code",
      "metadata": {
        "id": "v4v7_Zhlk6xg",
        "colab_type": "code",
        "colab": {}
      },
      "source": [
        "from google.colab import drive\n",
        "drive.mount('/content/drive')"
      ],
      "execution_count": 0,
      "outputs": []
    },
    {
      "cell_type": "markdown",
      "metadata": {
        "id": "mBMLlSrDsklV",
        "colab_type": "text"
      },
      "source": [
        "Step 3  :  Read Data from CSV "
      ]
    },
    {
      "cell_type": "code",
      "metadata": {
        "id": "7OVIpIhCsjxd",
        "colab_type": "code",
        "colab": {}
      },
      "source": [
        "data_set_csv_path = \"/content/drive/My Drive/histopathologic-cancer-detection/train_15000.csv\"\n",
        "\n",
        "import pandas as pd\n",
        "\n",
        "df = pd.read_csv(data_set_csv_path, sep=',', header=None)\n",
        "df.to_records(index=False)\n",
        "\n",
        "#print(\"data set   \" ,df)\n",
        "print(df)\n",
        "\n",
        "print(df.loc[0,0])\n",
        "print(df.loc[0,1:None])\n",
        "\n"
      ],
      "execution_count": 0,
      "outputs": []
    },
    {
      "cell_type": "markdown",
      "metadata": {
        "id": "9WkQSPcjtu86",
        "colab_type": "text"
      },
      "source": [
        "Step 4 : Split Data set 80% train 20% test"
      ]
    },
    {
      "cell_type": "code",
      "metadata": {
        "id": "0kuFWo8kuH06",
        "colab_type": "code",
        "colab": {}
      },
      "source": [
        "msk = np.random.rand(len(df)) < 0.8\n",
        "df_train = df[msk]\n",
        "df_test = df[~msk]\n",
        "print(\"train data \" ,df_train.shape)\n",
        "print(\"test data \" , df_test.shape)"
      ],
      "execution_count": 0,
      "outputs": []
    },
    {
      "cell_type": "code",
      "metadata": {
        "id": "ks3ZiUMUDHlN",
        "colab_type": "code",
        "colab": {}
      },
      "source": [
        "def train(L,dataSet,C1,C2):\n",
        "    print(\"train for Label\",L)\n",
        "    print(\"train data\",dataSet.shape)\n",
        "\n",
        "    for i in range(len(dataSet)):\n",
        "        if(dataSet.iloc[i,0] == L):\n",
        "            C1.append(dataSet.iloc[i,1:None])\n",
        "        else:\n",
        "            C2.append(dataSet.iloc[i,1:None])\n",
        "    C1= np.asarray(C1)\n",
        "    C2= np.asarray(C2)\n",
        "    print(C1.shape)\n",
        "    print(C2.shape)"
      ],
      "execution_count": 0,
      "outputs": []
    },
    {
      "cell_type": "code",
      "metadata": {
        "id": "ENhiNahRzJFA",
        "colab_type": "code",
        "colab": {}
      },
      "source": [
        "    def getMean(DataSet): \n",
        "        return np.mean(DataSet, axis=0)"
      ],
      "execution_count": 0,
      "outputs": []
    },
    {
      "cell_type": "code",
      "metadata": {
        "id": "1-KI5V7bzYq_",
        "colab_type": "code",
        "colab": {}
      },
      "source": [
        "\n",
        "def getS1(C1,m1):\n",
        "    # Calculate First Term of SW\n",
        "    sumS1= np.zeros((3072,3072))\n",
        "    for i in range(len(C1)):\n",
        "        val =  np.subtract(C1[i], m1)\n",
        "        #print(\"val len: \",len(val))\n",
        "        sumS1 = sumS1 + np.dot(val.T,val) # MultiplyMatrix(val,val,0) \n",
        "    return sumS1\n",
        "\n",
        "\n",
        "def getS2(C2,m2):\n",
        "    # Calculate First Term of SW\n",
        "    sumS2= np.zeros((3072,3072))\n",
        "    for i in range(len(C2)):\n",
        "        val =  np.subtract(C2[i], m2)\n",
        "        #print(\"val len: \",len(val))\n",
        "        sumS2 = sumS2 + np.dot(val.T,val) #MultiplyMatrix(val,val,0) \n",
        "    return sumS2"
      ],
      "execution_count": 0,
      "outputs": []
    },
    {
      "cell_type": "code",
      "metadata": {
        "id": "wrqM1SxzzLz_",
        "colab_type": "code",
        "colab": {}
      },
      "source": [
        "def MultiplyMatrix(a1,a2,tr):\n",
        "    if tr==0:\n",
        "        M1 = np.matrix(a1).T\n",
        "        M2 = np.matrix(a2)\n",
        "    else:\n",
        "        M1 = np.matrix(a1)\n",
        "        M2 = np.matrix(a2).T    \n",
        "    return M1*M2"
      ],
      "execution_count": 0,
      "outputs": []
    },
    {
      "cell_type": "code",
      "metadata": {
        "id": "cnjXwSyjzeFx",
        "colab_type": "code",
        "colab": {}
      },
      "source": [
        " # Sw equation\n",
        " def getSw(S1,S2):\n",
        "    return np.add(S1,S2)\n",
        "\n",
        "# weight equation\n",
        "def get_W(Sw, mean1, mean2):\n",
        "  Sw_inv=np.linalg.pinv(Sw)\n",
        "  return np.dot(Sw_inv,(mean2-mean1))\n",
        " "
      ],
      "execution_count": 0,
      "outputs": []
    },
    {
      "cell_type": "code",
      "metadata": {
        "id": "5qXk6DzLzf8A",
        "colab_type": "code",
        "colab": {}
      },
      "source": [
        "#Wo equation\n",
        "def get_Wo(w, m1, m2):\n",
        "    negative_WT= np.negative(w)\n",
        "    print(\"negative_WT : \" , len(negative_WT))\n",
        "    add_means = np.add(m1,m2)\n",
        "    print(\"add_means : \" , len(add_means))\n",
        "    return np.dot(negative_WT.T,np.divide(add_means, 2)) #MultiplyMatrix(negative_WT, np.true_divide(add_means, 2),1)\n"
      ],
      "execution_count": 0,
      "outputs": []
    },
    {
      "cell_type": "code",
      "metadata": {
        "id": "no9mtWmVFXJF",
        "colab_type": "code",
        "colab": {}
      },
      "source": [
        "# Create wight matrix for the two classes \n",
        "W=np.zeros((2,3072))\n",
        "\n",
        "# Create Wo matrix for the two classes \n",
        "W_o=np.zeros((2,1))\n",
        "\n",
        "for Label in range (2):\n",
        "    print(\"########## Loop\",Label,\"#############\")\n",
        "    C1=[]\n",
        "    C2=[]\n",
        "    train(Label,df_train,C1,C2)\n",
        "    \n",
        "    # get mean of class 1\n",
        "    m1 = getMean(C1)\n",
        "\n",
        "    # get mean of class 2\n",
        "    m2 = getMean(C2)\n",
        "\n",
        "    print('len of m1: ',len(m1))\n",
        "    print('len of m2 :',len(m2))\n",
        "\n",
        "    S1 = getS1(C1,m1)\n",
        "    S2 = getS2(C2,m2)\n",
        "  \n",
        "    Sw = getSw(S1,S2)\n",
        "    w = get_W(Sw, m1, m2)\n",
        "    W[Label]= copy.deepcopy(w)\n",
        "    w_o = get_Wo(w, m1, m2)\n",
        "    W_o[Label]= copy.deepcopy(w_o)\n",
        "\n"
      ],
      "execution_count": 0,
      "outputs": []
    },
    {
      "cell_type": "code",
      "metadata": {
        "id": "60Dq4VBpK2zJ",
        "colab_type": "code",
        "colab": {}
      },
      "source": [
        "Y_all = np.zeros((len(df_test),2))\n",
        "Y_weights = np.zeros((2,1))\n",
        "\n",
        "\n",
        "for i in range(len(df_test)):\n",
        "    for j in range(2):\n",
        "        w_traspose = W[j].T #1*3072\n",
        "        test_row = df_test.iloc[i,1:] #3072\n",
        "        Y=np.dot(w_traspose,test_row)+W_o[j]\n",
        "        Y_weights[j]=Y\n",
        "    Y_all[i,0]=df_test.iloc[i,0]\n",
        "    Y_all[i,1]=  np.argmax(Y_weights)\n",
        "    \n",
        "print(Y_all)\n",
        "print(Y_all.shape)\n",
        "\n",
        "#Calculate Accuracy and Print it\n",
        "accuracy = 0\n",
        "\n",
        "for i in range(len(Y_all)):\n",
        "    if (Y_all[i,0] == Y_all[i,1]):\n",
        "        accuracy = accuracy + 1\n",
        " \n",
        "print(\"Accuracy = \",((accuracy/len(df_test))*100),\" %\")"
      ],
      "execution_count": 0,
      "outputs": []
    },
    {
      "cell_type": "code",
      "metadata": {
        "id": "E1cFKmbQh3bn",
        "colab_type": "code",
        "colab": {}
      },
      "source": [
        "#Calculate Accuracy and Print it\n",
        "from sklearn.metrics import confusion_matrix\n",
        "y_actu = pd.Series(Y_all[:,0], name='Actual')\n",
        "y_pred = pd.Series(Y_all[:,1], name='Predicted')\n",
        "\n",
        "array=confusion_matrix(Y_all[:,0], Y_all[:,1])\n",
        "print(array)\n",
        "\n",
        "#Calculate Accuracy and Print it\n",
        "from sklearn.metrics import accuracy_score\n",
        "print(accuracy_score(Y_all[:,0], Y_all[:,1])*100)\n",
        "\n",
        "#Plot Confusion Matrix and save it but take care to save it in another folder NOT TRAIN or TEST\n",
        "import seaborn as sn\n",
        "import pandas as pd\n",
        "import matplotlib.pyplot as plt\n",
        "df_cm = pd.DataFrame(array, range(2),range(2))\n",
        "plt.figure(figsize = (10,7))\n",
        "sn.set(font_scale=1.4)#for label size\n",
        "sn.heatmap(df_cm, annot=True,fmt='d') # font size\n",
        "plt.ylabel('True Label')\n",
        "plt.xlabel('Predicted Label')\n",
        "plt.title('Confusion Matrix')"
      ],
      "execution_count": 0,
      "outputs": []
    }
  ]
}