{
  "nbformat": 4,
  "nbformat_minor": 0,
  "metadata": {
    "colab": {
      "name": "cut_data_to_csv.ipynb",
      "provenance": [],
      "include_colab_link": true
    },
    "kernelspec": {
      "name": "python3",
      "display_name": "Python 3"
    }
  },
  "cells": [
    {
      "cell_type": "markdown",
      "metadata": {
        "id": "view-in-github",
        "colab_type": "text"
      },
      "source": [
        "<a href=\"https://colab.research.google.com/github/zeinabmohamed/HistopathologicCancerDetection/blob/master/cut_data_to_csv.ipynb\" target=\"_parent\"><img src=\"https://colab.research.google.com/assets/colab-badge.svg\" alt=\"Open In Colab\"/></a>"
      ]
    },
    {
      "cell_type": "code",
      "metadata": {
        "id": "QNvC1SCw-ULR",
        "colab_type": "code",
        "colab": {}
      },
      "source": [
        "#!/usr/bin/env python3\n",
        "# -*- coding: utf-8 -*-\n",
        "\"\"\"\n",
        "Created on Thu Jan  2 20:52:01 2020\n",
        "\n",
        "@author: minamounir\n",
        "\"\"\"\n",
        "\n",
        "\n",
        "import numpy as np\n",
        "import pandas as pd\n",
        "import sys\n",
        "np.set_printoptions(threshold=sys.maxsize)\n",
        "np.set_printoptions(linewidth=sys.maxsize)\n",
        "\n",
        "\n",
        "def getImageNameAndLabel(csvFile):\n",
        "    data = pd.read_csv(csvFile)\n",
        "    return data\n",
        "\n",
        "def getVectorFromCsv(csvFile):\n",
        "    data = pd.read_csv(csvFile)\n",
        "    intArray = np.fromstring(data[\"imageVector\"][0].strip('[]'), dtype=int, sep=' ')\n",
        "    i = int(data[\"label\"][0])\n",
        "    my_list = []\n",
        "    my_list.append(i)\n",
        "    my_list.extend(intArray)\n",
        "    return np.asarray(my_list)\n",
        "\n",
        "\n",
        "\n",
        "df=getImageNameAndLabel(\"./histopathologic-cancer-detection/train_labels.csv\")\n",
        "#print(df)\n",
        "\n",
        "msk = np.random.rand(len(df)) < 0.8\n",
        "\n",
        "df_train = df[msk]\n",
        "\n",
        "df_test = df[~msk]\n",
        "\n",
        "rangOfTrainData = 6000\n",
        "\n",
        "df_train = df_train[-rangOfTrainData:]\n",
        "\n",
        "Vectors=[]\n",
        "counterIndex=0\n",
        "## prepare train data \n",
        "for index, dataRow in df_train.iterrows(): \n",
        "    counterIndex+=1\n",
        "    imageId = dataRow.loc['id']\n",
        "       \n",
        "    imageVector= getVectorFromCsv(\"./histopathologic-cancer-detection/DataSet2/\"+imageId+\".csv\")\n",
        "    Vectors.append(imageVector)\n",
        "    if(counterIndex%1000 == 0):\n",
        "        print(counterIndex*100/rangOfTrainData)\n",
        "\n",
        "train_matrix = np.reshape(Vectors, (rangOfTrainData, 3073))\n",
        "\n",
        "import csv\n",
        "\n",
        "open_string = \"train_{}.csv\"\n",
        "fileName = open_string.format(rangOfTrainData)\n",
        "\n",
        "\n",
        "with open(fileName, 'w') as myfile:\n",
        "    wr = csv.writer(myfile, quoting=csv.QUOTE_ALL)\n",
        "    wr.writerows(train_matrix)\n",
        "        "
      ],
      "execution_count": 0,
      "outputs": []
    }
  ]
}