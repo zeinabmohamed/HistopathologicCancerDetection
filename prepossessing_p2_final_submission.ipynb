{
  "nbformat": 4,
  "nbformat_minor": 0,
  "metadata": {
    "colab": {
      "name": "prepossessing_p2_final_submission.ipynb",
      "provenance": [],
      "include_colab_link": true
    },
    "kernelspec": {
      "name": "python3",
      "display_name": "Python 3"
    }
  },
  "cells": [
    {
      "cell_type": "markdown",
      "metadata": {
        "id": "view-in-github",
        "colab_type": "text"
      },
      "source": [
        "<a href=\"https://colab.research.google.com/github/zeinabmohamed/HistopathologicCancerDetection/blob/master/prepossessing_p2_final_submission.ipynb\" target=\"_parent\"><img src=\"https://colab.research.google.com/assets/colab-badge.svg\" alt=\"Open In Colab\"/></a>"
      ]
    },
    {
      "cell_type": "code",
      "metadata": {
        "id": "Jk19I6OFHjN7",
        "colab_type": "code",
        "colab": {}
      },
      "source": [
        "import numpy as np\n",
        "import pandas as pd\n",
        "import sys\n",
        "import csv\n",
        "np.set_printoptions(threshold=sys.maxsize)\n",
        "np.set_printoptions(linewidth=sys.maxsize)"
      ],
      "execution_count": 0,
      "outputs": []
    },
    {
      "cell_type": "code",
      "metadata": {
        "id": "PwL45FqgHpGj",
        "colab_type": "code",
        "colab": {}
      },
      "source": [
        "def getImageNameAndLabel(csvFile):\n",
        "    data = pd.read_csv(csvFile)\n",
        "    return data\n",
        "\n"
      ],
      "execution_count": 0,
      "outputs": []
    },
    {
      "cell_type": "code",
      "metadata": {
        "id": "vvoxglQPHzAd",
        "colab_type": "code",
        "colab": {}
      },
      "source": [
        "def getVectorFromCsv(csvFile):\n",
        "    data = pd.read_csv(csvFile)\n",
        "    intArray = np.fromstring(data[\"imageVector\"][0].strip('[]'), dtype=int, sep=' ')\n",
        "    i = int(data[\"label\"][0])\n",
        "    my_list = []\n",
        "    my_list.append(i)\n",
        "    my_list.extend(intArray)\n",
        "    return np.asarray(my_list)\n"
      ],
      "execution_count": 0,
      "outputs": []
    },
    {
      "cell_type": "markdown",
      "metadata": {
        "id": "DJGu3ERRNPu1",
        "colab_type": "text"
      },
      "source": [
        "Step1 : Reading the croped images CSV's"
      ]
    },
    {
      "cell_type": "code",
      "metadata": {
        "id": "mUuZrHMnOhy9",
        "colab_type": "code",
        "colab": {}
      },
      "source": [
        "df=getImageNameAndLabel(\"./histopathologic-cancer-detection/train_labels.csv\")"
      ],
      "execution_count": 0,
      "outputs": []
    },
    {
      "cell_type": "markdown",
      "metadata": {
        "id": "_seJz2moN1q0",
        "colab_type": "text"
      },
      "source": [
        "Step 2 : Split the data "
      ]
    },
    {
      "cell_type": "code",
      "metadata": {
        "id": "knm8SxxHH2Wx",
        "colab_type": "code",
        "colab": {}
      },
      "source": [
        "\n",
        "msk = np.random.rand(len(df)) < 0.8\n",
        "\n",
        "df_train = df[msk]\n",
        "\n",
        "rangOfTrainData = 15000\n",
        "\n",
        "df_train = df_train[-rangOfTrainData:]\n",
        "\n",
        "Vectors=[]\n",
        "counterIndex=0\n",
        "## prepare train data \n",
        "for index, dataRow in df_train.iterrows(): \n",
        "    counterIndex+=1\n",
        "    imageId = dataRow.loc['id']\n",
        "       \n",
        "    imageVector= getVectorFromCsv(\"./histopathologic-cancer-detection/DataSet2/\"+imageId+\".csv\")\n",
        "    Vectors.append(imageVector)\n",
        "    if(counterIndex%1000 == 0):\n",
        "        print(counterIndex*100/rangOfTrainData)\n",
        "\n",
        "train_matrix = np.reshape(Vectors, (rangOfTrainData, 3073))\n",
        "\n"
      ],
      "execution_count": 0,
      "outputs": []
    },
    {
      "cell_type": "markdown",
      "metadata": {
        "id": "sRkRpDugOQGy",
        "colab_type": "text"
      },
      "source": [
        "Step 3 : write images rows to one CSV"
      ]
    },
    {
      "cell_type": "code",
      "metadata": {
        "id": "-kVPseXfH7Il",
        "colab_type": "code",
        "colab": {}
      },
      "source": [
        "\n",
        "\n",
        "open_string = \"train_{}.csv\"\n",
        "fileName = open_string.format(rangOfTrainData)\n",
        "\n",
        "with open(fileName, 'w') as myfile:\n",
        "    wr = csv.writer(myfile, quoting=csv.QUOTE_ALL)\n",
        "    wr.writerows(train_matrix)\n",
        "        "
      ],
      "execution_count": 0,
      "outputs": []
    }
  ]
}