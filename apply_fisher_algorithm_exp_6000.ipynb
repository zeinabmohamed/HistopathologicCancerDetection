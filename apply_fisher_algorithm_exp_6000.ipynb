{
  "nbformat": 4,
  "nbformat_minor": 0,
  "metadata": {
    "colab": {
      "name": "fisher_model.ipynb",
      "provenance": [],
      "private_outputs": true,
      "include_colab_link": true
    },
    "kernelspec": {
      "name": "python3",
      "display_name": "Python 3"
    }
  },
  "cells": [
    {
      "cell_type": "markdown",
      "metadata": {
        "id": "view-in-github",
        "colab_type": "text"
      },
      "source": [
        "<a href=\"https://colab.research.google.com/github/zeinabmohamed/HistopathologicCancerDetection/blob/master/apply_fisher_algorithm_exp_6000.ipynb\" target=\"_parent\"><img src=\"https://colab.research.google.com/assets/colab-badge.svg\" alt=\"Open In Colab\"/></a>"
      ]
    },
    {
      "cell_type": "markdown",
      "metadata": {
        "id": "ABaSd3kejNZ2",
        "colab_type": "text"
      },
      "source": [
        "Step 1 : Adding required imports : "
      ]
    },
    {
      "cell_type": "code",
      "metadata": {
        "id": "FibkbVaYikrP",
        "colab_type": "code",
        "colab": {}
      },
      "source": [
        "#!/usr/bin/env python3\n",
        "# -*- coding: utf-8 -*-\n",
        "\"\"\"\n",
        "Created on Sun Dec 29 20:51:00 2019\n",
        "@author: minamounir\n",
        "\"\"\"\n",
        "import numpy as np\n",
        "import os\n",
        "import imageio\n",
        "import matplotlib.pylab as plt\n",
        "import copy \n",
        "import pandas as pd\n",
        "import sys\n",
        "from numpy import genfromtxt"
      ],
      "execution_count": 0,
      "outputs": []
    },
    {
      "cell_type": "markdown",
      "metadata": {
        "id": "ZhHXYm2mkN8k",
        "colab_type": "text"
      },
      "source": [
        "Step 2 : Amount the Google drive "
      ]
    },
    {
      "cell_type": "code",
      "metadata": {
        "id": "v4v7_Zhlk6xg",
        "colab_type": "code",
        "outputId": "1d8c11af-b25a-437c-a29a-fd3966ed39d0",
        "colab": {
          "base_uri": "https://localhost:8080/",
          "height": 34
        }
      },
      "source": [
        "from google.colab import drive\n",
        "drive.mount('/content/drive')"
      ],
      "execution_count": 193,
      "outputs": [
        {
          "output_type": "stream",
          "text": [
            "Drive already mounted at /content/drive; to attempt to forcibly remount, call drive.mount(\"/content/drive\", force_remount=True).\n"
          ],
          "name": "stdout"
        }
      ]
    },
    {
      "cell_type": "markdown",
      "metadata": {
        "id": "mBMLlSrDsklV",
        "colab_type": "text"
      },
      "source": [
        "Step 3  :  Read Data from CSV "
      ]
    },
    {
      "cell_type": "code",
      "metadata": {
        "id": "7OVIpIhCsjxd",
        "colab_type": "code",
        "colab": {
          "base_uri": "https://localhost:8080/",
          "height": 476
        },
        "outputId": "7d0c07d2-0093-4f40-a712-0825464184ec"
      },
      "source": [
        "data_set_csv_path = \"/content/drive/My Drive/histopathologic-cancer-detection/train_6000.csv\"\n",
        "\n",
        "import pandas as pd\n",
        "\n",
        "df = pd.read_csv(data_set_csv_path, sep=',', header=None)\n",
        "df.to_records(index=False)\n",
        "\n",
        "#print(\"data set   \" ,df)\n",
        "print(df)\n",
        "\n",
        "print(df.loc[0,0])\n",
        "print(df.loc[0,1:None])\n",
        "\n"
      ],
      "execution_count": 194,
      "outputs": [
        {
          "output_type": "stream",
          "text": [
            "      0     1     2     3     4     5     ...  3067  3068  3069  3070  3071  3072\n",
            "0        0   226   174   196   207   160  ...   208   148   182   180   124   159\n",
            "1        1   255   238   254   255   247  ...   144   105   132    60    19    51\n",
            "2        0   242   221   220   255   248  ...   244   242   245   243   243   245\n",
            "3        1   187   135   201   173   121  ...   135    75   173   146    83   187\n",
            "4        1   236   184   220   132    80  ...    89    48    92    74    34    84\n",
            "...    ...   ...   ...   ...   ...   ...  ...   ...   ...   ...   ...   ...   ...\n",
            "5995     0   216   225   230   219   224  ...   221   200   219   225   204   223\n",
            "5996     0    80    39   143   102    67  ...   213   207   221   221   214   230\n",
            "5997     0   216   177   182   244   204  ...   178   128   157   243   193   222\n",
            "5998     1   251   244   252   250   245  ...   236   210   221   230   204   215\n",
            "5999     0    83    36    80    70    29  ...    65    24    82    49     7    70\n",
            "\n",
            "[6000 rows x 3073 columns]\n",
            "0\n",
            "1       226\n",
            "2       174\n",
            "3       196\n",
            "4       207\n",
            "5       160\n",
            "       ... \n",
            "3068    148\n",
            "3069    182\n",
            "3070    180\n",
            "3071    124\n",
            "3072    159\n",
            "Name: 0, Length: 3072, dtype: int64\n"
          ],
          "name": "stdout"
        }
      ]
    },
    {
      "cell_type": "markdown",
      "metadata": {
        "id": "9WkQSPcjtu86",
        "colab_type": "text"
      },
      "source": [
        "Step 4 : Split Data set 80% train 20% test"
      ]
    },
    {
      "cell_type": "code",
      "metadata": {
        "id": "0kuFWo8kuH06",
        "colab_type": "code",
        "colab": {
          "base_uri": "https://localhost:8080/",
          "height": 51
        },
        "outputId": "a09d7150-0cf9-4f63-cd66-a80af9260e76"
      },
      "source": [
        "msk = np.random.rand(len(df)) < 0.8\n",
        "df_train = df[msk]\n",
        "df_test = df[~msk]\n",
        "print(\"train data \" ,df_train.shape)\n",
        "print(\"test data \" , df_test.shape)"
      ],
      "execution_count": 195,
      "outputs": [
        {
          "output_type": "stream",
          "text": [
            "train data  (4858, 3073)\n",
            "test data  (1142, 3073)\n"
          ],
          "name": "stdout"
        }
      ]
    },
    {
      "cell_type": "code",
      "metadata": {
        "id": "ks3ZiUMUDHlN",
        "colab_type": "code",
        "colab": {}
      },
      "source": [
        "def train(L,dataSet,C1,C2):\n",
        "    print(\"train for Label\",L)\n",
        "    print(\"train data\",dataSet.shape)\n",
        "\n",
        "    for i in range(len(dataSet)):\n",
        "        if(dataSet.iloc[i,0] == L):\n",
        "            C1.append(dataSet.iloc[i,1:None])\n",
        "        else:\n",
        "            C2.append(dataSet.iloc[i,1:None])\n",
        "    C1= np.asarray(C1)\n",
        "    C2= np.asarray(C2)\n",
        "    print(C1.shape)\n",
        "    print(C2.shape)"
      ],
      "execution_count": 0,
      "outputs": []
    },
    {
      "cell_type": "code",
      "metadata": {
        "id": "ENhiNahRzJFA",
        "colab_type": "code",
        "colab": {}
      },
      "source": [
        "    def getMean(DataSet): \n",
        "        return np.mean(DataSet, axis=0)"
      ],
      "execution_count": 0,
      "outputs": []
    },
    {
      "cell_type": "code",
      "metadata": {
        "id": "1-KI5V7bzYq_",
        "colab_type": "code",
        "colab": {}
      },
      "source": [
        "\n",
        "def getS1(C1,m1):\n",
        "    # Calculate First Term of SW\n",
        "    sumS1= np.zeros((3072,3072))\n",
        "    for i in range(len(C1)):\n",
        "        val =  np.subtract(C1[i], m1)\n",
        "        #print(\"val len: \",len(val))\n",
        "        sumS1 = sumS1 + np.dot(val.T,val) # MultiplyMatrix(val,val,0) \n",
        "    return sumS1\n",
        "\n",
        "\n",
        "def getS2(C2,m2):\n",
        "    # Calculate First Term of SW\n",
        "    sumS2= np.zeros((3072,3072))\n",
        "    for i in range(len(C2)):\n",
        "        val =  np.subtract(C2[i], m2)\n",
        "        #print(\"val len: \",len(val))\n",
        "        sumS2 = sumS2 + np.dot(val.T,val) #MultiplyMatrix(val,val,0) \n",
        "    return sumS2"
      ],
      "execution_count": 0,
      "outputs": []
    },
    {
      "cell_type": "code",
      "metadata": {
        "id": "wrqM1SxzzLz_",
        "colab_type": "code",
        "colab": {}
      },
      "source": [
        "def MultiplyMatrix(a1,a2,tr):\n",
        "    if tr==0:\n",
        "        M1 = np.matrix(a1).T\n",
        "        M2 = np.matrix(a2)\n",
        "    else:\n",
        "        M1 = np.matrix(a1)\n",
        "        M2 = np.matrix(a2).T    \n",
        "    return M1*M2"
      ],
      "execution_count": 0,
      "outputs": []
    },
    {
      "cell_type": "code",
      "metadata": {
        "id": "cnjXwSyjzeFx",
        "colab_type": "code",
        "colab": {}
      },
      "source": [
        " def getSw(S1,S2):\n",
        "    return np.add(S1,S2)\n",
        "\n",
        "def get_W(Sw, mean1, mean2):\n",
        "    m= 10^-6\n",
        "    return np.dot(np.linalg.inv(Sw+np.eye(Sw.shape[1])*m), (mean2-mean1))"
      ],
      "execution_count": 0,
      "outputs": []
    },
    {
      "cell_type": "code",
      "metadata": {
        "id": "5qXk6DzLzf8A",
        "colab_type": "code",
        "colab": {}
      },
      "source": [
        "def get_Wo(w, m1, m2):\n",
        "    negative_WT= np.negative(w)\n",
        "    print(\"negative_WT : \" , len(negative_WT))\n",
        "    add_means = np.add(m1,m2)\n",
        "    print(\"add_means : \" , len(add_means))\n",
        "    return np.dot(negative_WT.T,np.divide(add_means, 2)) #MultiplyMatrix(negative_WT, np.true_divide(add_means, 2),1)\n"
      ],
      "execution_count": 0,
      "outputs": []
    },
    {
      "cell_type": "code",
      "metadata": {
        "id": "no9mtWmVFXJF",
        "colab_type": "code",
        "colab": {}
      },
      "source": [
        "W=np.zeros((2,3072))\n",
        "W_o=np.zeros((2,1))\n",
        "\n",
        "for Label in range (2):\n",
        "    print(\"########## Loop\",Label,\"#############\")\n",
        "    C1=[]\n",
        "    C2=[]\n",
        "    train(Label,df_train,C1,C2)\n",
        "    \n",
        "    # get mean of class 1\n",
        "    m1 = getMean(C1)\n",
        "\n",
        "    # get mean of class 2\n",
        "    m2 = getMean(C2)\n",
        "\n",
        "    print(len(m1))\n",
        "    print(len(m2))\n",
        "\n",
        "    S1 = getS1(C1,m1)\n",
        "    S2 = getS2(C2,m2)\n",
        "    #print(S1(C1,m1))\n",
        "    print(\"=========================================\")\n",
        "    #print(S2(C2,m2))\n",
        "    Sw = getSw(S1,S2)\n",
        "    w = get_W(Sw, m1, m2)\n",
        "    W[Label]= copy.deepcopy(w)\n",
        "    #print(\"SW : \",Sw)\n",
        "\n",
        "    #print(\"Weight : \",w)\n",
        "    w_o = get_Wo(w, m1, m2)\n",
        "    W_o[Label]= copy.deepcopy(w_o)\n",
        "    print(\"Wo : \",w_o)\n",
        "\n"
      ],
      "execution_count": 0,
      "outputs": []
    },
    {
      "cell_type": "code",
      "metadata": {
        "id": "60Dq4VBpK2zJ",
        "colab_type": "code",
        "colab": {}
      },
      "source": [
        "Y_all = np.zeros((len(df_test),2))\n",
        "Y_weights = np.zeros((2,1))\n",
        "\n",
        "\n",
        "for i in range(len(df_test)):\n",
        "    for j in range(2):\n",
        "        w_traspose = W[j].T #1*3072\n",
        "        test_row = df_test.iloc[i,1:] #3072\n",
        "        Y=np.dot(w_traspose,test_row)+W_o[j]\n",
        "        Y_weights[j]=Y\n",
        "    Y_all[i,0]=df_test.iloc[i,0]\n",
        "    Y_all[i,1]=  np.argmax(Y_weights)\n",
        "    \n",
        "print(Y_all)\n",
        "        \n",
        "#Calculate Accuracy and Print it\n",
        "accuracy = 0\n",
        "\n",
        "for i in range(len(Y_all)):\n",
        "    if (Y_all[i,0] == Y_all[i,1]):\n",
        "        accuracy = accuracy + 1\n",
        " \n",
        "print(\"Accuracy = \",((accuracy/len(df_test))*100),\" %\")"
      ],
      "execution_count": 0,
      "outputs": []
    },
    {
      "cell_type": "code",
      "metadata": {
        "id": "TZ4OeMYjYUaK",
        "colab_type": "code",
        "colab": {}
      },
      "source": [
        ""
      ],
      "execution_count": 0,
      "outputs": []
    },
    {
      "cell_type": "markdown",
      "metadata": {
        "id": "hYj0fT2pYUAt",
        "colab_type": "text"
      },
      "source": [
        ""
      ]
    }
  ]
}